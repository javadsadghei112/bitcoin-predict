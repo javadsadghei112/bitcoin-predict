{
 "cells": [
  {
   "cell_type": "code",
   "execution_count": 43,
   "metadata": {
    "collapsed": true
   },
   "outputs": [],
   "source": [
    "import numpy as np\n",
    "import pandas as pd\n",
    "import matplotlib.pyplot as plt"
   ]
  },
  {
   "cell_type": "code",
   "execution_count": 44,
   "outputs": [
    {
     "data": {
      "text/plain": "            Date          Open          High           Low         Close  \\\n0     2014-09-17    465.864014    468.174011    452.421997    457.334015   \n1     2014-09-18    456.859985    456.859985    413.104004    424.440002   \n2     2014-09-19    424.102997    427.834991    384.532013    394.795990   \n3     2014-09-20    394.673004    423.295990    389.882996    408.903992   \n4     2014-09-21    408.084991    412.425995    393.181000    398.821014   \n...          ...           ...           ...           ...           ...   \n2708  2022-02-15  42586.464844  44667.218750  42491.035156  44575.203125   \n2709  2022-02-16  44578.277344  44578.277344  43456.691406  43961.859375   \n2710  2022-02-17  43937.070313  44132.972656  40249.371094  40538.011719   \n2711  2022-02-18  40552.132813  40929.152344  39637.617188  40030.976563   \n2712  2022-02-19  40022.132813  40246.027344  40010.867188  40126.429688   \n\n         Adj Close       Volume  \n0       457.334015     21056800  \n1       424.440002     34483200  \n2       394.795990     37919700  \n3       408.903992     36863600  \n4       398.821014     26580100  \n...            ...          ...  \n2708  44575.203125  22721659051  \n2709  43961.859375  19792547657  \n2710  40538.011719  26246662813  \n2711  40030.976563  23310007704  \n2712  40126.429688  22263900160  \n\n[2713 rows x 7 columns]",
      "text/html": "<div>\n<style scoped>\n    .dataframe tbody tr th:only-of-type {\n        vertical-align: middle;\n    }\n\n    .dataframe tbody tr th {\n        vertical-align: top;\n    }\n\n    .dataframe thead th {\n        text-align: right;\n    }\n</style>\n<table border=\"1\" class=\"dataframe\">\n  <thead>\n    <tr style=\"text-align: right;\">\n      <th></th>\n      <th>Date</th>\n      <th>Open</th>\n      <th>High</th>\n      <th>Low</th>\n      <th>Close</th>\n      <th>Adj Close</th>\n      <th>Volume</th>\n    </tr>\n  </thead>\n  <tbody>\n    <tr>\n      <th>0</th>\n      <td>2014-09-17</td>\n      <td>465.864014</td>\n      <td>468.174011</td>\n      <td>452.421997</td>\n      <td>457.334015</td>\n      <td>457.334015</td>\n      <td>21056800</td>\n    </tr>\n    <tr>\n      <th>1</th>\n      <td>2014-09-18</td>\n      <td>456.859985</td>\n      <td>456.859985</td>\n      <td>413.104004</td>\n      <td>424.440002</td>\n      <td>424.440002</td>\n      <td>34483200</td>\n    </tr>\n    <tr>\n      <th>2</th>\n      <td>2014-09-19</td>\n      <td>424.102997</td>\n      <td>427.834991</td>\n      <td>384.532013</td>\n      <td>394.795990</td>\n      <td>394.795990</td>\n      <td>37919700</td>\n    </tr>\n    <tr>\n      <th>3</th>\n      <td>2014-09-20</td>\n      <td>394.673004</td>\n      <td>423.295990</td>\n      <td>389.882996</td>\n      <td>408.903992</td>\n      <td>408.903992</td>\n      <td>36863600</td>\n    </tr>\n    <tr>\n      <th>4</th>\n      <td>2014-09-21</td>\n      <td>408.084991</td>\n      <td>412.425995</td>\n      <td>393.181000</td>\n      <td>398.821014</td>\n      <td>398.821014</td>\n      <td>26580100</td>\n    </tr>\n    <tr>\n      <th>...</th>\n      <td>...</td>\n      <td>...</td>\n      <td>...</td>\n      <td>...</td>\n      <td>...</td>\n      <td>...</td>\n      <td>...</td>\n    </tr>\n    <tr>\n      <th>2708</th>\n      <td>2022-02-15</td>\n      <td>42586.464844</td>\n      <td>44667.218750</td>\n      <td>42491.035156</td>\n      <td>44575.203125</td>\n      <td>44575.203125</td>\n      <td>22721659051</td>\n    </tr>\n    <tr>\n      <th>2709</th>\n      <td>2022-02-16</td>\n      <td>44578.277344</td>\n      <td>44578.277344</td>\n      <td>43456.691406</td>\n      <td>43961.859375</td>\n      <td>43961.859375</td>\n      <td>19792547657</td>\n    </tr>\n    <tr>\n      <th>2710</th>\n      <td>2022-02-17</td>\n      <td>43937.070313</td>\n      <td>44132.972656</td>\n      <td>40249.371094</td>\n      <td>40538.011719</td>\n      <td>40538.011719</td>\n      <td>26246662813</td>\n    </tr>\n    <tr>\n      <th>2711</th>\n      <td>2022-02-18</td>\n      <td>40552.132813</td>\n      <td>40929.152344</td>\n      <td>39637.617188</td>\n      <td>40030.976563</td>\n      <td>40030.976563</td>\n      <td>23310007704</td>\n    </tr>\n    <tr>\n      <th>2712</th>\n      <td>2022-02-19</td>\n      <td>40022.132813</td>\n      <td>40246.027344</td>\n      <td>40010.867188</td>\n      <td>40126.429688</td>\n      <td>40126.429688</td>\n      <td>22263900160</td>\n    </tr>\n  </tbody>\n</table>\n<p>2713 rows × 7 columns</p>\n</div>"
     },
     "execution_count": 2,
     "metadata": {},
     "output_type": "execute_result"
    },
    {
     "data": {
      "text/plain": "            Date          Open          High           Low         Close  \\\n0     2014-09-17    465.864014    468.174011    452.421997    457.334015   \n1     2014-09-18    456.859985    456.859985    413.104004    424.440002   \n2     2014-09-19    424.102997    427.834991    384.532013    394.795990   \n3     2014-09-20    394.673004    423.295990    389.882996    408.903992   \n4     2014-09-21    408.084991    412.425995    393.181000    398.821014   \n...          ...           ...           ...           ...           ...   \n2708  2022-02-15  42586.464844  44667.218750  42491.035156  44575.203125   \n2709  2022-02-16  44578.277344  44578.277344  43456.691406  43961.859375   \n2710  2022-02-17  43937.070313  44132.972656  40249.371094  40538.011719   \n2711  2022-02-18  40552.132813  40929.152344  39637.617188  40030.976563   \n2712  2022-02-19  40022.132813  40246.027344  40010.867188  40126.429688   \n\n         Adj Close       Volume  \n0       457.334015     21056800  \n1       424.440002     34483200  \n2       394.795990     37919700  \n3       408.903992     36863600  \n4       398.821014     26580100  \n...            ...          ...  \n2708  44575.203125  22721659051  \n2709  43961.859375  19792547657  \n2710  40538.011719  26246662813  \n2711  40030.976563  23310007704  \n2712  40126.429688  22263900160  \n\n[2713 rows x 7 columns]",
      "text/html": "<div>\n<style scoped>\n    .dataframe tbody tr th:only-of-type {\n        vertical-align: middle;\n    }\n\n    .dataframe tbody tr th {\n        vertical-align: top;\n    }\n\n    .dataframe thead th {\n        text-align: right;\n    }\n</style>\n<table border=\"1\" class=\"dataframe\">\n  <thead>\n    <tr style=\"text-align: right;\">\n      <th></th>\n      <th>Date</th>\n      <th>Open</th>\n      <th>High</th>\n      <th>Low</th>\n      <th>Close</th>\n      <th>Adj Close</th>\n      <th>Volume</th>\n    </tr>\n  </thead>\n  <tbody>\n    <tr>\n      <th>0</th>\n      <td>2014-09-17</td>\n      <td>465.864014</td>\n      <td>468.174011</td>\n      <td>452.421997</td>\n      <td>457.334015</td>\n      <td>457.334015</td>\n      <td>21056800</td>\n    </tr>\n    <tr>\n      <th>1</th>\n      <td>2014-09-18</td>\n      <td>456.859985</td>\n      <td>456.859985</td>\n      <td>413.104004</td>\n      <td>424.440002</td>\n      <td>424.440002</td>\n      <td>34483200</td>\n    </tr>\n    <tr>\n      <th>2</th>\n      <td>2014-09-19</td>\n      <td>424.102997</td>\n      <td>427.834991</td>\n      <td>384.532013</td>\n      <td>394.795990</td>\n      <td>394.795990</td>\n      <td>37919700</td>\n    </tr>\n    <tr>\n      <th>3</th>\n      <td>2014-09-20</td>\n      <td>394.673004</td>\n      <td>423.295990</td>\n      <td>389.882996</td>\n      <td>408.903992</td>\n      <td>408.903992</td>\n      <td>36863600</td>\n    </tr>\n    <tr>\n      <th>4</th>\n      <td>2014-09-21</td>\n      <td>408.084991</td>\n      <td>412.425995</td>\n      <td>393.181000</td>\n      <td>398.821014</td>\n      <td>398.821014</td>\n      <td>26580100</td>\n    </tr>\n    <tr>\n      <th>...</th>\n      <td>...</td>\n      <td>...</td>\n      <td>...</td>\n      <td>...</td>\n      <td>...</td>\n      <td>...</td>\n      <td>...</td>\n    </tr>\n    <tr>\n      <th>2708</th>\n      <td>2022-02-15</td>\n      <td>42586.464844</td>\n      <td>44667.218750</td>\n      <td>42491.035156</td>\n      <td>44575.203125</td>\n      <td>44575.203125</td>\n      <td>22721659051</td>\n    </tr>\n    <tr>\n      <th>2709</th>\n      <td>2022-02-16</td>\n      <td>44578.277344</td>\n      <td>44578.277344</td>\n      <td>43456.691406</td>\n      <td>43961.859375</td>\n      <td>43961.859375</td>\n      <td>19792547657</td>\n    </tr>\n    <tr>\n      <th>2710</th>\n      <td>2022-02-17</td>\n      <td>43937.070313</td>\n      <td>44132.972656</td>\n      <td>40249.371094</td>\n      <td>40538.011719</td>\n      <td>40538.011719</td>\n      <td>26246662813</td>\n    </tr>\n    <tr>\n      <th>2711</th>\n      <td>2022-02-18</td>\n      <td>40552.132813</td>\n      <td>40929.152344</td>\n      <td>39637.617188</td>\n      <td>40030.976563</td>\n      <td>40030.976563</td>\n      <td>23310007704</td>\n    </tr>\n    <tr>\n      <th>2712</th>\n      <td>2022-02-19</td>\n      <td>40022.132813</td>\n      <td>40246.027344</td>\n      <td>40010.867188</td>\n      <td>40126.429688</td>\n      <td>40126.429688</td>\n      <td>22263900160</td>\n    </tr>\n  </tbody>\n</table>\n<p>2713 rows × 7 columns</p>\n</div>"
     },
     "execution_count": 44,
     "metadata": {},
     "output_type": "execute_result"
    }
   ],
   "source": [
    "df=pd.read_csv('BTC-USD.xls')\n",
    "df"
   ],
   "metadata": {
    "collapsed": false,
    "pycharm": {
     "name": "#%%\n"
    }
   }
  },
  {
   "cell_type": "code",
   "execution_count": 45,
   "outputs": [
    {
     "data": {
      "text/plain": "            Date          Open          High           Low         Close  \\\n0     2014-09-17    465.864014    468.174011    452.421997    457.334015   \n1     2014-09-18    456.859985    456.859985    413.104004    424.440002   \n2     2014-09-19    424.102997    427.834991    384.532013    394.795990   \n3     2014-09-20    394.673004    423.295990    389.882996    408.903992   \n4     2014-09-21    408.084991    412.425995    393.181000    398.821014   \n...          ...           ...           ...           ...           ...   \n2708  2022-02-15  42586.464844  44667.218750  42491.035156  44575.203125   \n2709  2022-02-16  44578.277344  44578.277344  43456.691406  43961.859375   \n2710  2022-02-17  43937.070313  44132.972656  40249.371094  40538.011719   \n2711  2022-02-18  40552.132813  40929.152344  39637.617188  40030.976563   \n2712  2022-02-19  40022.132813  40246.027344  40010.867188  40126.429688   \n\n           Volume  \n0        21056800  \n1        34483200  \n2        37919700  \n3        36863600  \n4        26580100  \n...           ...  \n2708  22721659051  \n2709  19792547657  \n2710  26246662813  \n2711  23310007704  \n2712  22263900160  \n\n[2713 rows x 6 columns]",
      "text/html": "<div>\n<style scoped>\n    .dataframe tbody tr th:only-of-type {\n        vertical-align: middle;\n    }\n\n    .dataframe tbody tr th {\n        vertical-align: top;\n    }\n\n    .dataframe thead th {\n        text-align: right;\n    }\n</style>\n<table border=\"1\" class=\"dataframe\">\n  <thead>\n    <tr style=\"text-align: right;\">\n      <th></th>\n      <th>Date</th>\n      <th>Open</th>\n      <th>High</th>\n      <th>Low</th>\n      <th>Close</th>\n      <th>Volume</th>\n    </tr>\n  </thead>\n  <tbody>\n    <tr>\n      <th>0</th>\n      <td>2014-09-17</td>\n      <td>465.864014</td>\n      <td>468.174011</td>\n      <td>452.421997</td>\n      <td>457.334015</td>\n      <td>21056800</td>\n    </tr>\n    <tr>\n      <th>1</th>\n      <td>2014-09-18</td>\n      <td>456.859985</td>\n      <td>456.859985</td>\n      <td>413.104004</td>\n      <td>424.440002</td>\n      <td>34483200</td>\n    </tr>\n    <tr>\n      <th>2</th>\n      <td>2014-09-19</td>\n      <td>424.102997</td>\n      <td>427.834991</td>\n      <td>384.532013</td>\n      <td>394.795990</td>\n      <td>37919700</td>\n    </tr>\n    <tr>\n      <th>3</th>\n      <td>2014-09-20</td>\n      <td>394.673004</td>\n      <td>423.295990</td>\n      <td>389.882996</td>\n      <td>408.903992</td>\n      <td>36863600</td>\n    </tr>\n    <tr>\n      <th>4</th>\n      <td>2014-09-21</td>\n      <td>408.084991</td>\n      <td>412.425995</td>\n      <td>393.181000</td>\n      <td>398.821014</td>\n      <td>26580100</td>\n    </tr>\n    <tr>\n      <th>...</th>\n      <td>...</td>\n      <td>...</td>\n      <td>...</td>\n      <td>...</td>\n      <td>...</td>\n      <td>...</td>\n    </tr>\n    <tr>\n      <th>2708</th>\n      <td>2022-02-15</td>\n      <td>42586.464844</td>\n      <td>44667.218750</td>\n      <td>42491.035156</td>\n      <td>44575.203125</td>\n      <td>22721659051</td>\n    </tr>\n    <tr>\n      <th>2709</th>\n      <td>2022-02-16</td>\n      <td>44578.277344</td>\n      <td>44578.277344</td>\n      <td>43456.691406</td>\n      <td>43961.859375</td>\n      <td>19792547657</td>\n    </tr>\n    <tr>\n      <th>2710</th>\n      <td>2022-02-17</td>\n      <td>43937.070313</td>\n      <td>44132.972656</td>\n      <td>40249.371094</td>\n      <td>40538.011719</td>\n      <td>26246662813</td>\n    </tr>\n    <tr>\n      <th>2711</th>\n      <td>2022-02-18</td>\n      <td>40552.132813</td>\n      <td>40929.152344</td>\n      <td>39637.617188</td>\n      <td>40030.976563</td>\n      <td>23310007704</td>\n    </tr>\n    <tr>\n      <th>2712</th>\n      <td>2022-02-19</td>\n      <td>40022.132813</td>\n      <td>40246.027344</td>\n      <td>40010.867188</td>\n      <td>40126.429688</td>\n      <td>22263900160</td>\n    </tr>\n  </tbody>\n</table>\n<p>2713 rows × 6 columns</p>\n</div>"
     },
     "execution_count": 3,
     "metadata": {},
     "output_type": "execute_result"
    },
    {
     "data": {
      "text/plain": "            Date          Open          High           Low         Close  \\\n0     2014-09-17    465.864014    468.174011    452.421997    457.334015   \n1     2014-09-18    456.859985    456.859985    413.104004    424.440002   \n2     2014-09-19    424.102997    427.834991    384.532013    394.795990   \n3     2014-09-20    394.673004    423.295990    389.882996    408.903992   \n4     2014-09-21    408.084991    412.425995    393.181000    398.821014   \n...          ...           ...           ...           ...           ...   \n2708  2022-02-15  42586.464844  44667.218750  42491.035156  44575.203125   \n2709  2022-02-16  44578.277344  44578.277344  43456.691406  43961.859375   \n2710  2022-02-17  43937.070313  44132.972656  40249.371094  40538.011719   \n2711  2022-02-18  40552.132813  40929.152344  39637.617188  40030.976563   \n2712  2022-02-19  40022.132813  40246.027344  40010.867188  40126.429688   \n\n           Volume  \n0        21056800  \n1        34483200  \n2        37919700  \n3        36863600  \n4        26580100  \n...           ...  \n2708  22721659051  \n2709  19792547657  \n2710  26246662813  \n2711  23310007704  \n2712  22263900160  \n\n[2713 rows x 6 columns]",
      "text/html": "<div>\n<style scoped>\n    .dataframe tbody tr th:only-of-type {\n        vertical-align: middle;\n    }\n\n    .dataframe tbody tr th {\n        vertical-align: top;\n    }\n\n    .dataframe thead th {\n        text-align: right;\n    }\n</style>\n<table border=\"1\" class=\"dataframe\">\n  <thead>\n    <tr style=\"text-align: right;\">\n      <th></th>\n      <th>Date</th>\n      <th>Open</th>\n      <th>High</th>\n      <th>Low</th>\n      <th>Close</th>\n      <th>Volume</th>\n    </tr>\n  </thead>\n  <tbody>\n    <tr>\n      <th>0</th>\n      <td>2014-09-17</td>\n      <td>465.864014</td>\n      <td>468.174011</td>\n      <td>452.421997</td>\n      <td>457.334015</td>\n      <td>21056800</td>\n    </tr>\n    <tr>\n      <th>1</th>\n      <td>2014-09-18</td>\n      <td>456.859985</td>\n      <td>456.859985</td>\n      <td>413.104004</td>\n      <td>424.440002</td>\n      <td>34483200</td>\n    </tr>\n    <tr>\n      <th>2</th>\n      <td>2014-09-19</td>\n      <td>424.102997</td>\n      <td>427.834991</td>\n      <td>384.532013</td>\n      <td>394.795990</td>\n      <td>37919700</td>\n    </tr>\n    <tr>\n      <th>3</th>\n      <td>2014-09-20</td>\n      <td>394.673004</td>\n      <td>423.295990</td>\n      <td>389.882996</td>\n      <td>408.903992</td>\n      <td>36863600</td>\n    </tr>\n    <tr>\n      <th>4</th>\n      <td>2014-09-21</td>\n      <td>408.084991</td>\n      <td>412.425995</td>\n      <td>393.181000</td>\n      <td>398.821014</td>\n      <td>26580100</td>\n    </tr>\n    <tr>\n      <th>...</th>\n      <td>...</td>\n      <td>...</td>\n      <td>...</td>\n      <td>...</td>\n      <td>...</td>\n      <td>...</td>\n    </tr>\n    <tr>\n      <th>2708</th>\n      <td>2022-02-15</td>\n      <td>42586.464844</td>\n      <td>44667.218750</td>\n      <td>42491.035156</td>\n      <td>44575.203125</td>\n      <td>22721659051</td>\n    </tr>\n    <tr>\n      <th>2709</th>\n      <td>2022-02-16</td>\n      <td>44578.277344</td>\n      <td>44578.277344</td>\n      <td>43456.691406</td>\n      <td>43961.859375</td>\n      <td>19792547657</td>\n    </tr>\n    <tr>\n      <th>2710</th>\n      <td>2022-02-17</td>\n      <td>43937.070313</td>\n      <td>44132.972656</td>\n      <td>40249.371094</td>\n      <td>40538.011719</td>\n      <td>26246662813</td>\n    </tr>\n    <tr>\n      <th>2711</th>\n      <td>2022-02-18</td>\n      <td>40552.132813</td>\n      <td>40929.152344</td>\n      <td>39637.617188</td>\n      <td>40030.976563</td>\n      <td>23310007704</td>\n    </tr>\n    <tr>\n      <th>2712</th>\n      <td>2022-02-19</td>\n      <td>40022.132813</td>\n      <td>40246.027344</td>\n      <td>40010.867188</td>\n      <td>40126.429688</td>\n      <td>22263900160</td>\n    </tr>\n  </tbody>\n</table>\n<p>2713 rows × 6 columns</p>\n</div>"
     },
     "execution_count": 45,
     "metadata": {},
     "output_type": "execute_result"
    }
   ],
   "source": [
    "df.drop(['Adj Close'],axis='columns',inplace=True)\n",
    "df"
   ],
   "metadata": {
    "collapsed": false,
    "pycharm": {
     "name": "#%%\n"
    }
   }
  },
  {
   "cell_type": "code",
   "execution_count": 46,
   "outputs": [
    {
     "name": "stderr",
     "output_type": "stream",
     "text": [
      "C:\\Users\\parsian\\AppData\\Local\\Temp\\ipykernel_8804\\3432153112.py:1: FutureWarning: In a future version of pandas all arguments of StringMethods.split except for the argument 'pat' will be keyword-only.\n",
      "  df['year']=df['Date'].str.split('-',1).str[0]\n",
      "C:\\Users\\parsian\\AppData\\Local\\Temp\\ipykernel_8804\\3432153112.py:2: FutureWarning: In a future version of pandas all arguments of StringMethods.split except for the argument 'pat' will be keyword-only.\n",
      "  df['month']=df['Date'].str.split('-',1).str[1].str[:2]\n",
      "C:\\Users\\parsian\\AppData\\Local\\Temp\\ipykernel_8804\\3432153112.py:3: FutureWarning: In a future version of pandas all arguments of StringMethods.split except for the argument 'pat' will be keyword-only.\n",
      "  df['day']=df['Date'].str.split('-',1).str[1].str[-2:]\n"
     ]
    },
    {
     "data": {
      "text/plain": "            Date          Open          High           Low         Close  \\\n0     2014-09-17    465.864014    468.174011    452.421997    457.334015   \n1     2014-09-18    456.859985    456.859985    413.104004    424.440002   \n2     2014-09-19    424.102997    427.834991    384.532013    394.795990   \n3     2014-09-20    394.673004    423.295990    389.882996    408.903992   \n4     2014-09-21    408.084991    412.425995    393.181000    398.821014   \n...          ...           ...           ...           ...           ...   \n2708  2022-02-15  42586.464844  44667.218750  42491.035156  44575.203125   \n2709  2022-02-16  44578.277344  44578.277344  43456.691406  43961.859375   \n2710  2022-02-17  43937.070313  44132.972656  40249.371094  40538.011719   \n2711  2022-02-18  40552.132813  40929.152344  39637.617188  40030.976563   \n2712  2022-02-19  40022.132813  40246.027344  40010.867188  40126.429688   \n\n           Volume  year month day  \n0        21056800  2014    09  17  \n1        34483200  2014    09  18  \n2        37919700  2014    09  19  \n3        36863600  2014    09  20  \n4        26580100  2014    09  21  \n...           ...   ...   ...  ..  \n2708  22721659051  2022    02  15  \n2709  19792547657  2022    02  16  \n2710  26246662813  2022    02  17  \n2711  23310007704  2022    02  18  \n2712  22263900160  2022    02  19  \n\n[2713 rows x 9 columns]",
      "text/html": "<div>\n<style scoped>\n    .dataframe tbody tr th:only-of-type {\n        vertical-align: middle;\n    }\n\n    .dataframe tbody tr th {\n        vertical-align: top;\n    }\n\n    .dataframe thead th {\n        text-align: right;\n    }\n</style>\n<table border=\"1\" class=\"dataframe\">\n  <thead>\n    <tr style=\"text-align: right;\">\n      <th></th>\n      <th>Date</th>\n      <th>Open</th>\n      <th>High</th>\n      <th>Low</th>\n      <th>Close</th>\n      <th>Volume</th>\n      <th>year</th>\n      <th>month</th>\n      <th>day</th>\n    </tr>\n  </thead>\n  <tbody>\n    <tr>\n      <th>0</th>\n      <td>2014-09-17</td>\n      <td>465.864014</td>\n      <td>468.174011</td>\n      <td>452.421997</td>\n      <td>457.334015</td>\n      <td>21056800</td>\n      <td>2014</td>\n      <td>09</td>\n      <td>17</td>\n    </tr>\n    <tr>\n      <th>1</th>\n      <td>2014-09-18</td>\n      <td>456.859985</td>\n      <td>456.859985</td>\n      <td>413.104004</td>\n      <td>424.440002</td>\n      <td>34483200</td>\n      <td>2014</td>\n      <td>09</td>\n      <td>18</td>\n    </tr>\n    <tr>\n      <th>2</th>\n      <td>2014-09-19</td>\n      <td>424.102997</td>\n      <td>427.834991</td>\n      <td>384.532013</td>\n      <td>394.795990</td>\n      <td>37919700</td>\n      <td>2014</td>\n      <td>09</td>\n      <td>19</td>\n    </tr>\n    <tr>\n      <th>3</th>\n      <td>2014-09-20</td>\n      <td>394.673004</td>\n      <td>423.295990</td>\n      <td>389.882996</td>\n      <td>408.903992</td>\n      <td>36863600</td>\n      <td>2014</td>\n      <td>09</td>\n      <td>20</td>\n    </tr>\n    <tr>\n      <th>4</th>\n      <td>2014-09-21</td>\n      <td>408.084991</td>\n      <td>412.425995</td>\n      <td>393.181000</td>\n      <td>398.821014</td>\n      <td>26580100</td>\n      <td>2014</td>\n      <td>09</td>\n      <td>21</td>\n    </tr>\n    <tr>\n      <th>...</th>\n      <td>...</td>\n      <td>...</td>\n      <td>...</td>\n      <td>...</td>\n      <td>...</td>\n      <td>...</td>\n      <td>...</td>\n      <td>...</td>\n      <td>...</td>\n    </tr>\n    <tr>\n      <th>2708</th>\n      <td>2022-02-15</td>\n      <td>42586.464844</td>\n      <td>44667.218750</td>\n      <td>42491.035156</td>\n      <td>44575.203125</td>\n      <td>22721659051</td>\n      <td>2022</td>\n      <td>02</td>\n      <td>15</td>\n    </tr>\n    <tr>\n      <th>2709</th>\n      <td>2022-02-16</td>\n      <td>44578.277344</td>\n      <td>44578.277344</td>\n      <td>43456.691406</td>\n      <td>43961.859375</td>\n      <td>19792547657</td>\n      <td>2022</td>\n      <td>02</td>\n      <td>16</td>\n    </tr>\n    <tr>\n      <th>2710</th>\n      <td>2022-02-17</td>\n      <td>43937.070313</td>\n      <td>44132.972656</td>\n      <td>40249.371094</td>\n      <td>40538.011719</td>\n      <td>26246662813</td>\n      <td>2022</td>\n      <td>02</td>\n      <td>17</td>\n    </tr>\n    <tr>\n      <th>2711</th>\n      <td>2022-02-18</td>\n      <td>40552.132813</td>\n      <td>40929.152344</td>\n      <td>39637.617188</td>\n      <td>40030.976563</td>\n      <td>23310007704</td>\n      <td>2022</td>\n      <td>02</td>\n      <td>18</td>\n    </tr>\n    <tr>\n      <th>2712</th>\n      <td>2022-02-19</td>\n      <td>40022.132813</td>\n      <td>40246.027344</td>\n      <td>40010.867188</td>\n      <td>40126.429688</td>\n      <td>22263900160</td>\n      <td>2022</td>\n      <td>02</td>\n      <td>19</td>\n    </tr>\n  </tbody>\n</table>\n<p>2713 rows × 9 columns</p>\n</div>"
     },
     "execution_count": 4,
     "metadata": {},
     "output_type": "execute_result"
    },
    {
     "name": "stderr",
     "output_type": "stream",
     "text": [
      "C:\\Users\\parsian\\AppData\\Local\\Temp\\ipykernel_8804\\3432153112.py:1: FutureWarning: In a future version of pandas all arguments of StringMethods.split except for the argument 'pat' will be keyword-only.\n",
      "  df['year']=df['Date'].str.split('-',1).str[0]\n",
      "C:\\Users\\parsian\\AppData\\Local\\Temp\\ipykernel_8804\\3432153112.py:2: FutureWarning: In a future version of pandas all arguments of StringMethods.split except for the argument 'pat' will be keyword-only.\n",
      "  df['month']=df['Date'].str.split('-',1).str[1].str[:2]\n",
      "C:\\Users\\parsian\\AppData\\Local\\Temp\\ipykernel_8804\\3432153112.py:3: FutureWarning: In a future version of pandas all arguments of StringMethods.split except for the argument 'pat' will be keyword-only.\n",
      "  df['day']=df['Date'].str.split('-',1).str[1].str[-2:]\n"
     ]
    },
    {
     "data": {
      "text/plain": "            Date          Open          High           Low         Close  \\\n0     2014-09-17    465.864014    468.174011    452.421997    457.334015   \n1     2014-09-18    456.859985    456.859985    413.104004    424.440002   \n2     2014-09-19    424.102997    427.834991    384.532013    394.795990   \n3     2014-09-20    394.673004    423.295990    389.882996    408.903992   \n4     2014-09-21    408.084991    412.425995    393.181000    398.821014   \n...          ...           ...           ...           ...           ...   \n2708  2022-02-15  42586.464844  44667.218750  42491.035156  44575.203125   \n2709  2022-02-16  44578.277344  44578.277344  43456.691406  43961.859375   \n2710  2022-02-17  43937.070313  44132.972656  40249.371094  40538.011719   \n2711  2022-02-18  40552.132813  40929.152344  39637.617188  40030.976563   \n2712  2022-02-19  40022.132813  40246.027344  40010.867188  40126.429688   \n\n           Volume  year month day  \n0        21056800  2014    09  17  \n1        34483200  2014    09  18  \n2        37919700  2014    09  19  \n3        36863600  2014    09  20  \n4        26580100  2014    09  21  \n...           ...   ...   ...  ..  \n2708  22721659051  2022    02  15  \n2709  19792547657  2022    02  16  \n2710  26246662813  2022    02  17  \n2711  23310007704  2022    02  18  \n2712  22263900160  2022    02  19  \n\n[2713 rows x 9 columns]",
      "text/html": "<div>\n<style scoped>\n    .dataframe tbody tr th:only-of-type {\n        vertical-align: middle;\n    }\n\n    .dataframe tbody tr th {\n        vertical-align: top;\n    }\n\n    .dataframe thead th {\n        text-align: right;\n    }\n</style>\n<table border=\"1\" class=\"dataframe\">\n  <thead>\n    <tr style=\"text-align: right;\">\n      <th></th>\n      <th>Date</th>\n      <th>Open</th>\n      <th>High</th>\n      <th>Low</th>\n      <th>Close</th>\n      <th>Volume</th>\n      <th>year</th>\n      <th>month</th>\n      <th>day</th>\n    </tr>\n  </thead>\n  <tbody>\n    <tr>\n      <th>0</th>\n      <td>2014-09-17</td>\n      <td>465.864014</td>\n      <td>468.174011</td>\n      <td>452.421997</td>\n      <td>457.334015</td>\n      <td>21056800</td>\n      <td>2014</td>\n      <td>09</td>\n      <td>17</td>\n    </tr>\n    <tr>\n      <th>1</th>\n      <td>2014-09-18</td>\n      <td>456.859985</td>\n      <td>456.859985</td>\n      <td>413.104004</td>\n      <td>424.440002</td>\n      <td>34483200</td>\n      <td>2014</td>\n      <td>09</td>\n      <td>18</td>\n    </tr>\n    <tr>\n      <th>2</th>\n      <td>2014-09-19</td>\n      <td>424.102997</td>\n      <td>427.834991</td>\n      <td>384.532013</td>\n      <td>394.795990</td>\n      <td>37919700</td>\n      <td>2014</td>\n      <td>09</td>\n      <td>19</td>\n    </tr>\n    <tr>\n      <th>3</th>\n      <td>2014-09-20</td>\n      <td>394.673004</td>\n      <td>423.295990</td>\n      <td>389.882996</td>\n      <td>408.903992</td>\n      <td>36863600</td>\n      <td>2014</td>\n      <td>09</td>\n      <td>20</td>\n    </tr>\n    <tr>\n      <th>4</th>\n      <td>2014-09-21</td>\n      <td>408.084991</td>\n      <td>412.425995</td>\n      <td>393.181000</td>\n      <td>398.821014</td>\n      <td>26580100</td>\n      <td>2014</td>\n      <td>09</td>\n      <td>21</td>\n    </tr>\n    <tr>\n      <th>...</th>\n      <td>...</td>\n      <td>...</td>\n      <td>...</td>\n      <td>...</td>\n      <td>...</td>\n      <td>...</td>\n      <td>...</td>\n      <td>...</td>\n      <td>...</td>\n    </tr>\n    <tr>\n      <th>2708</th>\n      <td>2022-02-15</td>\n      <td>42586.464844</td>\n      <td>44667.218750</td>\n      <td>42491.035156</td>\n      <td>44575.203125</td>\n      <td>22721659051</td>\n      <td>2022</td>\n      <td>02</td>\n      <td>15</td>\n    </tr>\n    <tr>\n      <th>2709</th>\n      <td>2022-02-16</td>\n      <td>44578.277344</td>\n      <td>44578.277344</td>\n      <td>43456.691406</td>\n      <td>43961.859375</td>\n      <td>19792547657</td>\n      <td>2022</td>\n      <td>02</td>\n      <td>16</td>\n    </tr>\n    <tr>\n      <th>2710</th>\n      <td>2022-02-17</td>\n      <td>43937.070313</td>\n      <td>44132.972656</td>\n      <td>40249.371094</td>\n      <td>40538.011719</td>\n      <td>26246662813</td>\n      <td>2022</td>\n      <td>02</td>\n      <td>17</td>\n    </tr>\n    <tr>\n      <th>2711</th>\n      <td>2022-02-18</td>\n      <td>40552.132813</td>\n      <td>40929.152344</td>\n      <td>39637.617188</td>\n      <td>40030.976563</td>\n      <td>23310007704</td>\n      <td>2022</td>\n      <td>02</td>\n      <td>18</td>\n    </tr>\n    <tr>\n      <th>2712</th>\n      <td>2022-02-19</td>\n      <td>40022.132813</td>\n      <td>40246.027344</td>\n      <td>40010.867188</td>\n      <td>40126.429688</td>\n      <td>22263900160</td>\n      <td>2022</td>\n      <td>02</td>\n      <td>19</td>\n    </tr>\n  </tbody>\n</table>\n<p>2713 rows × 9 columns</p>\n</div>"
     },
     "execution_count": 46,
     "metadata": {},
     "output_type": "execute_result"
    }
   ],
   "source": [
    "df['year']=df['Date'].str.split('-',1).str[0]\n",
    "df['month']=df['Date'].str.split('-',1).str[1].str[:2]\n",
    "df['day']=df['Date'].str.split('-',1).str[1].str[-2:]\n",
    "df"
   ],
   "metadata": {
    "collapsed": false,
    "pycharm": {
     "name": "#%%\n"
    }
   }
  },
  {
   "cell_type": "code",
   "execution_count": 47,
   "outputs": [
    {
     "data": {
      "text/plain": "              Open          High           Low         Close       Volume  \\\n0       465.864014    468.174011    452.421997    457.334015     21056800   \n1       456.859985    456.859985    413.104004    424.440002     34483200   \n2       424.102997    427.834991    384.532013    394.795990     37919700   \n3       394.673004    423.295990    389.882996    408.903992     36863600   \n4       408.084991    412.425995    393.181000    398.821014     26580100   \n...            ...           ...           ...           ...          ...   \n2708  42586.464844  44667.218750  42491.035156  44575.203125  22721659051   \n2709  44578.277344  44578.277344  43456.691406  43961.859375  19792547657   \n2710  43937.070313  44132.972656  40249.371094  40538.011719  26246662813   \n2711  40552.132813  40929.152344  39637.617188  40030.976563  23310007704   \n2712  40022.132813  40246.027344  40010.867188  40126.429688  22263900160   \n\n      year month day  \n0     2014    09  17  \n1     2014    09  18  \n2     2014    09  19  \n3     2014    09  20  \n4     2014    09  21  \n...    ...   ...  ..  \n2708  2022    02  15  \n2709  2022    02  16  \n2710  2022    02  17  \n2711  2022    02  18  \n2712  2022    02  19  \n\n[2713 rows x 8 columns]",
      "text/html": "<div>\n<style scoped>\n    .dataframe tbody tr th:only-of-type {\n        vertical-align: middle;\n    }\n\n    .dataframe tbody tr th {\n        vertical-align: top;\n    }\n\n    .dataframe thead th {\n        text-align: right;\n    }\n</style>\n<table border=\"1\" class=\"dataframe\">\n  <thead>\n    <tr style=\"text-align: right;\">\n      <th></th>\n      <th>Open</th>\n      <th>High</th>\n      <th>Low</th>\n      <th>Close</th>\n      <th>Volume</th>\n      <th>year</th>\n      <th>month</th>\n      <th>day</th>\n    </tr>\n  </thead>\n  <tbody>\n    <tr>\n      <th>0</th>\n      <td>465.864014</td>\n      <td>468.174011</td>\n      <td>452.421997</td>\n      <td>457.334015</td>\n      <td>21056800</td>\n      <td>2014</td>\n      <td>09</td>\n      <td>17</td>\n    </tr>\n    <tr>\n      <th>1</th>\n      <td>456.859985</td>\n      <td>456.859985</td>\n      <td>413.104004</td>\n      <td>424.440002</td>\n      <td>34483200</td>\n      <td>2014</td>\n      <td>09</td>\n      <td>18</td>\n    </tr>\n    <tr>\n      <th>2</th>\n      <td>424.102997</td>\n      <td>427.834991</td>\n      <td>384.532013</td>\n      <td>394.795990</td>\n      <td>37919700</td>\n      <td>2014</td>\n      <td>09</td>\n      <td>19</td>\n    </tr>\n    <tr>\n      <th>3</th>\n      <td>394.673004</td>\n      <td>423.295990</td>\n      <td>389.882996</td>\n      <td>408.903992</td>\n      <td>36863600</td>\n      <td>2014</td>\n      <td>09</td>\n      <td>20</td>\n    </tr>\n    <tr>\n      <th>4</th>\n      <td>408.084991</td>\n      <td>412.425995</td>\n      <td>393.181000</td>\n      <td>398.821014</td>\n      <td>26580100</td>\n      <td>2014</td>\n      <td>09</td>\n      <td>21</td>\n    </tr>\n    <tr>\n      <th>...</th>\n      <td>...</td>\n      <td>...</td>\n      <td>...</td>\n      <td>...</td>\n      <td>...</td>\n      <td>...</td>\n      <td>...</td>\n      <td>...</td>\n    </tr>\n    <tr>\n      <th>2708</th>\n      <td>42586.464844</td>\n      <td>44667.218750</td>\n      <td>42491.035156</td>\n      <td>44575.203125</td>\n      <td>22721659051</td>\n      <td>2022</td>\n      <td>02</td>\n      <td>15</td>\n    </tr>\n    <tr>\n      <th>2709</th>\n      <td>44578.277344</td>\n      <td>44578.277344</td>\n      <td>43456.691406</td>\n      <td>43961.859375</td>\n      <td>19792547657</td>\n      <td>2022</td>\n      <td>02</td>\n      <td>16</td>\n    </tr>\n    <tr>\n      <th>2710</th>\n      <td>43937.070313</td>\n      <td>44132.972656</td>\n      <td>40249.371094</td>\n      <td>40538.011719</td>\n      <td>26246662813</td>\n      <td>2022</td>\n      <td>02</td>\n      <td>17</td>\n    </tr>\n    <tr>\n      <th>2711</th>\n      <td>40552.132813</td>\n      <td>40929.152344</td>\n      <td>39637.617188</td>\n      <td>40030.976563</td>\n      <td>23310007704</td>\n      <td>2022</td>\n      <td>02</td>\n      <td>18</td>\n    </tr>\n    <tr>\n      <th>2712</th>\n      <td>40022.132813</td>\n      <td>40246.027344</td>\n      <td>40010.867188</td>\n      <td>40126.429688</td>\n      <td>22263900160</td>\n      <td>2022</td>\n      <td>02</td>\n      <td>19</td>\n    </tr>\n  </tbody>\n</table>\n<p>2713 rows × 8 columns</p>\n</div>"
     },
     "execution_count": 5,
     "metadata": {},
     "output_type": "execute_result"
    },
    {
     "data": {
      "text/plain": "              Open          High           Low         Close       Volume  \\\n0       465.864014    468.174011    452.421997    457.334015     21056800   \n1       456.859985    456.859985    413.104004    424.440002     34483200   \n2       424.102997    427.834991    384.532013    394.795990     37919700   \n3       394.673004    423.295990    389.882996    408.903992     36863600   \n4       408.084991    412.425995    393.181000    398.821014     26580100   \n...            ...           ...           ...           ...          ...   \n2708  42586.464844  44667.218750  42491.035156  44575.203125  22721659051   \n2709  44578.277344  44578.277344  43456.691406  43961.859375  19792547657   \n2710  43937.070313  44132.972656  40249.371094  40538.011719  26246662813   \n2711  40552.132813  40929.152344  39637.617188  40030.976563  23310007704   \n2712  40022.132813  40246.027344  40010.867188  40126.429688  22263900160   \n\n      year month day  \n0     2014    09  17  \n1     2014    09  18  \n2     2014    09  19  \n3     2014    09  20  \n4     2014    09  21  \n...    ...   ...  ..  \n2708  2022    02  15  \n2709  2022    02  16  \n2710  2022    02  17  \n2711  2022    02  18  \n2712  2022    02  19  \n\n[2713 rows x 8 columns]",
      "text/html": "<div>\n<style scoped>\n    .dataframe tbody tr th:only-of-type {\n        vertical-align: middle;\n    }\n\n    .dataframe tbody tr th {\n        vertical-align: top;\n    }\n\n    .dataframe thead th {\n        text-align: right;\n    }\n</style>\n<table border=\"1\" class=\"dataframe\">\n  <thead>\n    <tr style=\"text-align: right;\">\n      <th></th>\n      <th>Open</th>\n      <th>High</th>\n      <th>Low</th>\n      <th>Close</th>\n      <th>Volume</th>\n      <th>year</th>\n      <th>month</th>\n      <th>day</th>\n    </tr>\n  </thead>\n  <tbody>\n    <tr>\n      <th>0</th>\n      <td>465.864014</td>\n      <td>468.174011</td>\n      <td>452.421997</td>\n      <td>457.334015</td>\n      <td>21056800</td>\n      <td>2014</td>\n      <td>09</td>\n      <td>17</td>\n    </tr>\n    <tr>\n      <th>1</th>\n      <td>456.859985</td>\n      <td>456.859985</td>\n      <td>413.104004</td>\n      <td>424.440002</td>\n      <td>34483200</td>\n      <td>2014</td>\n      <td>09</td>\n      <td>18</td>\n    </tr>\n    <tr>\n      <th>2</th>\n      <td>424.102997</td>\n      <td>427.834991</td>\n      <td>384.532013</td>\n      <td>394.795990</td>\n      <td>37919700</td>\n      <td>2014</td>\n      <td>09</td>\n      <td>19</td>\n    </tr>\n    <tr>\n      <th>3</th>\n      <td>394.673004</td>\n      <td>423.295990</td>\n      <td>389.882996</td>\n      <td>408.903992</td>\n      <td>36863600</td>\n      <td>2014</td>\n      <td>09</td>\n      <td>20</td>\n    </tr>\n    <tr>\n      <th>4</th>\n      <td>408.084991</td>\n      <td>412.425995</td>\n      <td>393.181000</td>\n      <td>398.821014</td>\n      <td>26580100</td>\n      <td>2014</td>\n      <td>09</td>\n      <td>21</td>\n    </tr>\n    <tr>\n      <th>...</th>\n      <td>...</td>\n      <td>...</td>\n      <td>...</td>\n      <td>...</td>\n      <td>...</td>\n      <td>...</td>\n      <td>...</td>\n      <td>...</td>\n    </tr>\n    <tr>\n      <th>2708</th>\n      <td>42586.464844</td>\n      <td>44667.218750</td>\n      <td>42491.035156</td>\n      <td>44575.203125</td>\n      <td>22721659051</td>\n      <td>2022</td>\n      <td>02</td>\n      <td>15</td>\n    </tr>\n    <tr>\n      <th>2709</th>\n      <td>44578.277344</td>\n      <td>44578.277344</td>\n      <td>43456.691406</td>\n      <td>43961.859375</td>\n      <td>19792547657</td>\n      <td>2022</td>\n      <td>02</td>\n      <td>16</td>\n    </tr>\n    <tr>\n      <th>2710</th>\n      <td>43937.070313</td>\n      <td>44132.972656</td>\n      <td>40249.371094</td>\n      <td>40538.011719</td>\n      <td>26246662813</td>\n      <td>2022</td>\n      <td>02</td>\n      <td>17</td>\n    </tr>\n    <tr>\n      <th>2711</th>\n      <td>40552.132813</td>\n      <td>40929.152344</td>\n      <td>39637.617188</td>\n      <td>40030.976563</td>\n      <td>23310007704</td>\n      <td>2022</td>\n      <td>02</td>\n      <td>18</td>\n    </tr>\n    <tr>\n      <th>2712</th>\n      <td>40022.132813</td>\n      <td>40246.027344</td>\n      <td>40010.867188</td>\n      <td>40126.429688</td>\n      <td>22263900160</td>\n      <td>2022</td>\n      <td>02</td>\n      <td>19</td>\n    </tr>\n  </tbody>\n</table>\n<p>2713 rows × 8 columns</p>\n</div>"
     },
     "execution_count": 47,
     "metadata": {},
     "output_type": "execute_result"
    }
   ],
   "source": [
    "df.drop(['Date'],axis='columns',inplace=True)\n",
    "df"
   ],
   "metadata": {
    "collapsed": false,
    "pycharm": {
     "name": "#%%\n"
    }
   }
  },
  {
   "cell_type": "code",
   "execution_count": 48,
   "outputs": [
    {
     "data": {
      "text/plain": "             Close       Volume  year month day\n0       457.334015     21056800  2014    09  17\n1       424.440002     34483200  2014    09  18\n2       394.795990     37919700  2014    09  19\n3       408.903992     36863600  2014    09  20\n4       398.821014     26580100  2014    09  21\n...            ...          ...   ...   ...  ..\n2708  44575.203125  22721659051  2022    02  15\n2709  43961.859375  19792547657  2022    02  16\n2710  40538.011719  26246662813  2022    02  17\n2711  40030.976563  23310007704  2022    02  18\n2712  40126.429688  22263900160  2022    02  19\n\n[2713 rows x 5 columns]",
      "text/html": "<div>\n<style scoped>\n    .dataframe tbody tr th:only-of-type {\n        vertical-align: middle;\n    }\n\n    .dataframe tbody tr th {\n        vertical-align: top;\n    }\n\n    .dataframe thead th {\n        text-align: right;\n    }\n</style>\n<table border=\"1\" class=\"dataframe\">\n  <thead>\n    <tr style=\"text-align: right;\">\n      <th></th>\n      <th>Close</th>\n      <th>Volume</th>\n      <th>year</th>\n      <th>month</th>\n      <th>day</th>\n    </tr>\n  </thead>\n  <tbody>\n    <tr>\n      <th>0</th>\n      <td>457.334015</td>\n      <td>21056800</td>\n      <td>2014</td>\n      <td>09</td>\n      <td>17</td>\n    </tr>\n    <tr>\n      <th>1</th>\n      <td>424.440002</td>\n      <td>34483200</td>\n      <td>2014</td>\n      <td>09</td>\n      <td>18</td>\n    </tr>\n    <tr>\n      <th>2</th>\n      <td>394.795990</td>\n      <td>37919700</td>\n      <td>2014</td>\n      <td>09</td>\n      <td>19</td>\n    </tr>\n    <tr>\n      <th>3</th>\n      <td>408.903992</td>\n      <td>36863600</td>\n      <td>2014</td>\n      <td>09</td>\n      <td>20</td>\n    </tr>\n    <tr>\n      <th>4</th>\n      <td>398.821014</td>\n      <td>26580100</td>\n      <td>2014</td>\n      <td>09</td>\n      <td>21</td>\n    </tr>\n    <tr>\n      <th>...</th>\n      <td>...</td>\n      <td>...</td>\n      <td>...</td>\n      <td>...</td>\n      <td>...</td>\n    </tr>\n    <tr>\n      <th>2708</th>\n      <td>44575.203125</td>\n      <td>22721659051</td>\n      <td>2022</td>\n      <td>02</td>\n      <td>15</td>\n    </tr>\n    <tr>\n      <th>2709</th>\n      <td>43961.859375</td>\n      <td>19792547657</td>\n      <td>2022</td>\n      <td>02</td>\n      <td>16</td>\n    </tr>\n    <tr>\n      <th>2710</th>\n      <td>40538.011719</td>\n      <td>26246662813</td>\n      <td>2022</td>\n      <td>02</td>\n      <td>17</td>\n    </tr>\n    <tr>\n      <th>2711</th>\n      <td>40030.976563</td>\n      <td>23310007704</td>\n      <td>2022</td>\n      <td>02</td>\n      <td>18</td>\n    </tr>\n    <tr>\n      <th>2712</th>\n      <td>40126.429688</td>\n      <td>22263900160</td>\n      <td>2022</td>\n      <td>02</td>\n      <td>19</td>\n    </tr>\n  </tbody>\n</table>\n<p>2713 rows × 5 columns</p>\n</div>"
     },
     "execution_count": 6,
     "metadata": {},
     "output_type": "execute_result"
    },
    {
     "data": {
      "text/plain": "             Close       Volume  year month day\n0       457.334015     21056800  2014    09  17\n1       424.440002     34483200  2014    09  18\n2       394.795990     37919700  2014    09  19\n3       408.903992     36863600  2014    09  20\n4       398.821014     26580100  2014    09  21\n...            ...          ...   ...   ...  ..\n2708  44575.203125  22721659051  2022    02  15\n2709  43961.859375  19792547657  2022    02  16\n2710  40538.011719  26246662813  2022    02  17\n2711  40030.976563  23310007704  2022    02  18\n2712  40126.429688  22263900160  2022    02  19\n\n[2713 rows x 5 columns]",
      "text/html": "<div>\n<style scoped>\n    .dataframe tbody tr th:only-of-type {\n        vertical-align: middle;\n    }\n\n    .dataframe tbody tr th {\n        vertical-align: top;\n    }\n\n    .dataframe thead th {\n        text-align: right;\n    }\n</style>\n<table border=\"1\" class=\"dataframe\">\n  <thead>\n    <tr style=\"text-align: right;\">\n      <th></th>\n      <th>Close</th>\n      <th>Volume</th>\n      <th>year</th>\n      <th>month</th>\n      <th>day</th>\n    </tr>\n  </thead>\n  <tbody>\n    <tr>\n      <th>0</th>\n      <td>457.334015</td>\n      <td>21056800</td>\n      <td>2014</td>\n      <td>09</td>\n      <td>17</td>\n    </tr>\n    <tr>\n      <th>1</th>\n      <td>424.440002</td>\n      <td>34483200</td>\n      <td>2014</td>\n      <td>09</td>\n      <td>18</td>\n    </tr>\n    <tr>\n      <th>2</th>\n      <td>394.795990</td>\n      <td>37919700</td>\n      <td>2014</td>\n      <td>09</td>\n      <td>19</td>\n    </tr>\n    <tr>\n      <th>3</th>\n      <td>408.903992</td>\n      <td>36863600</td>\n      <td>2014</td>\n      <td>09</td>\n      <td>20</td>\n    </tr>\n    <tr>\n      <th>4</th>\n      <td>398.821014</td>\n      <td>26580100</td>\n      <td>2014</td>\n      <td>09</td>\n      <td>21</td>\n    </tr>\n    <tr>\n      <th>...</th>\n      <td>...</td>\n      <td>...</td>\n      <td>...</td>\n      <td>...</td>\n      <td>...</td>\n    </tr>\n    <tr>\n      <th>2708</th>\n      <td>44575.203125</td>\n      <td>22721659051</td>\n      <td>2022</td>\n      <td>02</td>\n      <td>15</td>\n    </tr>\n    <tr>\n      <th>2709</th>\n      <td>43961.859375</td>\n      <td>19792547657</td>\n      <td>2022</td>\n      <td>02</td>\n      <td>16</td>\n    </tr>\n    <tr>\n      <th>2710</th>\n      <td>40538.011719</td>\n      <td>26246662813</td>\n      <td>2022</td>\n      <td>02</td>\n      <td>17</td>\n    </tr>\n    <tr>\n      <th>2711</th>\n      <td>40030.976563</td>\n      <td>23310007704</td>\n      <td>2022</td>\n      <td>02</td>\n      <td>18</td>\n    </tr>\n    <tr>\n      <th>2712</th>\n      <td>40126.429688</td>\n      <td>22263900160</td>\n      <td>2022</td>\n      <td>02</td>\n      <td>19</td>\n    </tr>\n  </tbody>\n</table>\n<p>2713 rows × 5 columns</p>\n</div>"
     },
     "execution_count": 48,
     "metadata": {},
     "output_type": "execute_result"
    }
   ],
   "source": [
    "df.drop(['Open','Low','High'],axis='columns',inplace=True)\n",
    "df"
   ],
   "metadata": {
    "collapsed": false,
    "pycharm": {
     "name": "#%%\n"
    }
   }
  },
  {
   "cell_type": "code",
   "execution_count": 49,
   "outputs": [
    {
     "data": {
      "text/plain": "              Close        Volume\ncount   2713.000000  2.713000e+03\nmean   11323.914637  1.470462e+10\nstd    16110.365010  2.001627e+10\nmin      178.102997  5.914570e+06\n25%      606.718994  7.991080e+07\n50%     6317.609863  5.098183e+09\n75%    10462.259766  2.456992e+10\nmax    67566.828125  3.509679e+11",
      "text/html": "<div>\n<style scoped>\n    .dataframe tbody tr th:only-of-type {\n        vertical-align: middle;\n    }\n\n    .dataframe tbody tr th {\n        vertical-align: top;\n    }\n\n    .dataframe thead th {\n        text-align: right;\n    }\n</style>\n<table border=\"1\" class=\"dataframe\">\n  <thead>\n    <tr style=\"text-align: right;\">\n      <th></th>\n      <th>Close</th>\n      <th>Volume</th>\n    </tr>\n  </thead>\n  <tbody>\n    <tr>\n      <th>count</th>\n      <td>2713.000000</td>\n      <td>2.713000e+03</td>\n    </tr>\n    <tr>\n      <th>mean</th>\n      <td>11323.914637</td>\n      <td>1.470462e+10</td>\n    </tr>\n    <tr>\n      <th>std</th>\n      <td>16110.365010</td>\n      <td>2.001627e+10</td>\n    </tr>\n    <tr>\n      <th>min</th>\n      <td>178.102997</td>\n      <td>5.914570e+06</td>\n    </tr>\n    <tr>\n      <th>25%</th>\n      <td>606.718994</td>\n      <td>7.991080e+07</td>\n    </tr>\n    <tr>\n      <th>50%</th>\n      <td>6317.609863</td>\n      <td>5.098183e+09</td>\n    </tr>\n    <tr>\n      <th>75%</th>\n      <td>10462.259766</td>\n      <td>2.456992e+10</td>\n    </tr>\n    <tr>\n      <th>max</th>\n      <td>67566.828125</td>\n      <td>3.509679e+11</td>\n    </tr>\n  </tbody>\n</table>\n</div>"
     },
     "execution_count": 7,
     "metadata": {},
     "output_type": "execute_result"
    },
    {
     "data": {
      "text/plain": "              Close        Volume\ncount   2713.000000  2.713000e+03\nmean   11323.914637  1.470462e+10\nstd    16110.365010  2.001627e+10\nmin      178.102997  5.914570e+06\n25%      606.718994  7.991080e+07\n50%     6317.609863  5.098183e+09\n75%    10462.259766  2.456992e+10\nmax    67566.828125  3.509679e+11",
      "text/html": "<div>\n<style scoped>\n    .dataframe tbody tr th:only-of-type {\n        vertical-align: middle;\n    }\n\n    .dataframe tbody tr th {\n        vertical-align: top;\n    }\n\n    .dataframe thead th {\n        text-align: right;\n    }\n</style>\n<table border=\"1\" class=\"dataframe\">\n  <thead>\n    <tr style=\"text-align: right;\">\n      <th></th>\n      <th>Close</th>\n      <th>Volume</th>\n    </tr>\n  </thead>\n  <tbody>\n    <tr>\n      <th>count</th>\n      <td>2713.000000</td>\n      <td>2.713000e+03</td>\n    </tr>\n    <tr>\n      <th>mean</th>\n      <td>11323.914637</td>\n      <td>1.470462e+10</td>\n    </tr>\n    <tr>\n      <th>std</th>\n      <td>16110.365010</td>\n      <td>2.001627e+10</td>\n    </tr>\n    <tr>\n      <th>min</th>\n      <td>178.102997</td>\n      <td>5.914570e+06</td>\n    </tr>\n    <tr>\n      <th>25%</th>\n      <td>606.718994</td>\n      <td>7.991080e+07</td>\n    </tr>\n    <tr>\n      <th>50%</th>\n      <td>6317.609863</td>\n      <td>5.098183e+09</td>\n    </tr>\n    <tr>\n      <th>75%</th>\n      <td>10462.259766</td>\n      <td>2.456992e+10</td>\n    </tr>\n    <tr>\n      <th>max</th>\n      <td>67566.828125</td>\n      <td>3.509679e+11</td>\n    </tr>\n  </tbody>\n</table>\n</div>"
     },
     "execution_count": 49,
     "metadata": {},
     "output_type": "execute_result"
    }
   ],
   "source": [
    "df.describe()"
   ],
   "metadata": {
    "collapsed": false,
    "pycharm": {
     "name": "#%%\n"
    }
   }
  },
  {
   "cell_type": "code",
   "execution_count": 50,
   "outputs": [
    {
     "data": {
      "text/plain": "             Price       Volume  year month day\n0       457.334015     21056800  2014    09  17\n1       424.440002     34483200  2014    09  18\n2       394.795990     37919700  2014    09  19\n3       408.903992     36863600  2014    09  20\n4       398.821014     26580100  2014    09  21\n...            ...          ...   ...   ...  ..\n2708  44575.203125  22721659051  2022    02  15\n2709  43961.859375  19792547657  2022    02  16\n2710  40538.011719  26246662813  2022    02  17\n2711  40030.976563  23310007704  2022    02  18\n2712  40126.429688  22263900160  2022    02  19\n\n[2713 rows x 5 columns]",
      "text/html": "<div>\n<style scoped>\n    .dataframe tbody tr th:only-of-type {\n        vertical-align: middle;\n    }\n\n    .dataframe tbody tr th {\n        vertical-align: top;\n    }\n\n    .dataframe thead th {\n        text-align: right;\n    }\n</style>\n<table border=\"1\" class=\"dataframe\">\n  <thead>\n    <tr style=\"text-align: right;\">\n      <th></th>\n      <th>Price</th>\n      <th>Volume</th>\n      <th>year</th>\n      <th>month</th>\n      <th>day</th>\n    </tr>\n  </thead>\n  <tbody>\n    <tr>\n      <th>0</th>\n      <td>457.334015</td>\n      <td>21056800</td>\n      <td>2014</td>\n      <td>09</td>\n      <td>17</td>\n    </tr>\n    <tr>\n      <th>1</th>\n      <td>424.440002</td>\n      <td>34483200</td>\n      <td>2014</td>\n      <td>09</td>\n      <td>18</td>\n    </tr>\n    <tr>\n      <th>2</th>\n      <td>394.795990</td>\n      <td>37919700</td>\n      <td>2014</td>\n      <td>09</td>\n      <td>19</td>\n    </tr>\n    <tr>\n      <th>3</th>\n      <td>408.903992</td>\n      <td>36863600</td>\n      <td>2014</td>\n      <td>09</td>\n      <td>20</td>\n    </tr>\n    <tr>\n      <th>4</th>\n      <td>398.821014</td>\n      <td>26580100</td>\n      <td>2014</td>\n      <td>09</td>\n      <td>21</td>\n    </tr>\n    <tr>\n      <th>...</th>\n      <td>...</td>\n      <td>...</td>\n      <td>...</td>\n      <td>...</td>\n      <td>...</td>\n    </tr>\n    <tr>\n      <th>2708</th>\n      <td>44575.203125</td>\n      <td>22721659051</td>\n      <td>2022</td>\n      <td>02</td>\n      <td>15</td>\n    </tr>\n    <tr>\n      <th>2709</th>\n      <td>43961.859375</td>\n      <td>19792547657</td>\n      <td>2022</td>\n      <td>02</td>\n      <td>16</td>\n    </tr>\n    <tr>\n      <th>2710</th>\n      <td>40538.011719</td>\n      <td>26246662813</td>\n      <td>2022</td>\n      <td>02</td>\n      <td>17</td>\n    </tr>\n    <tr>\n      <th>2711</th>\n      <td>40030.976563</td>\n      <td>23310007704</td>\n      <td>2022</td>\n      <td>02</td>\n      <td>18</td>\n    </tr>\n    <tr>\n      <th>2712</th>\n      <td>40126.429688</td>\n      <td>22263900160</td>\n      <td>2022</td>\n      <td>02</td>\n      <td>19</td>\n    </tr>\n  </tbody>\n</table>\n<p>2713 rows × 5 columns</p>\n</div>"
     },
     "execution_count": 8,
     "metadata": {},
     "output_type": "execute_result"
    },
    {
     "data": {
      "text/plain": "             Price       Volume  year month day\n0       457.334015     21056800  2014    09  17\n1       424.440002     34483200  2014    09  18\n2       394.795990     37919700  2014    09  19\n3       408.903992     36863600  2014    09  20\n4       398.821014     26580100  2014    09  21\n...            ...          ...   ...   ...  ..\n2708  44575.203125  22721659051  2022    02  15\n2709  43961.859375  19792547657  2022    02  16\n2710  40538.011719  26246662813  2022    02  17\n2711  40030.976563  23310007704  2022    02  18\n2712  40126.429688  22263900160  2022    02  19\n\n[2713 rows x 5 columns]",
      "text/html": "<div>\n<style scoped>\n    .dataframe tbody tr th:only-of-type {\n        vertical-align: middle;\n    }\n\n    .dataframe tbody tr th {\n        vertical-align: top;\n    }\n\n    .dataframe thead th {\n        text-align: right;\n    }\n</style>\n<table border=\"1\" class=\"dataframe\">\n  <thead>\n    <tr style=\"text-align: right;\">\n      <th></th>\n      <th>Price</th>\n      <th>Volume</th>\n      <th>year</th>\n      <th>month</th>\n      <th>day</th>\n    </tr>\n  </thead>\n  <tbody>\n    <tr>\n      <th>0</th>\n      <td>457.334015</td>\n      <td>21056800</td>\n      <td>2014</td>\n      <td>09</td>\n      <td>17</td>\n    </tr>\n    <tr>\n      <th>1</th>\n      <td>424.440002</td>\n      <td>34483200</td>\n      <td>2014</td>\n      <td>09</td>\n      <td>18</td>\n    </tr>\n    <tr>\n      <th>2</th>\n      <td>394.795990</td>\n      <td>37919700</td>\n      <td>2014</td>\n      <td>09</td>\n      <td>19</td>\n    </tr>\n    <tr>\n      <th>3</th>\n      <td>408.903992</td>\n      <td>36863600</td>\n      <td>2014</td>\n      <td>09</td>\n      <td>20</td>\n    </tr>\n    <tr>\n      <th>4</th>\n      <td>398.821014</td>\n      <td>26580100</td>\n      <td>2014</td>\n      <td>09</td>\n      <td>21</td>\n    </tr>\n    <tr>\n      <th>...</th>\n      <td>...</td>\n      <td>...</td>\n      <td>...</td>\n      <td>...</td>\n      <td>...</td>\n    </tr>\n    <tr>\n      <th>2708</th>\n      <td>44575.203125</td>\n      <td>22721659051</td>\n      <td>2022</td>\n      <td>02</td>\n      <td>15</td>\n    </tr>\n    <tr>\n      <th>2709</th>\n      <td>43961.859375</td>\n      <td>19792547657</td>\n      <td>2022</td>\n      <td>02</td>\n      <td>16</td>\n    </tr>\n    <tr>\n      <th>2710</th>\n      <td>40538.011719</td>\n      <td>26246662813</td>\n      <td>2022</td>\n      <td>02</td>\n      <td>17</td>\n    </tr>\n    <tr>\n      <th>2711</th>\n      <td>40030.976563</td>\n      <td>23310007704</td>\n      <td>2022</td>\n      <td>02</td>\n      <td>18</td>\n    </tr>\n    <tr>\n      <th>2712</th>\n      <td>40126.429688</td>\n      <td>22263900160</td>\n      <td>2022</td>\n      <td>02</td>\n      <td>19</td>\n    </tr>\n  </tbody>\n</table>\n<p>2713 rows × 5 columns</p>\n</div>"
     },
     "execution_count": 50,
     "metadata": {},
     "output_type": "execute_result"
    }
   ],
   "source": [
    "df=df.rename(columns={\"Close\":\"Price\"})\n",
    "df"
   ],
   "metadata": {
    "collapsed": false,
    "pycharm": {
     "name": "#%%\n"
    }
   }
  },
  {
   "cell_type": "code",
   "execution_count": 51,
   "outputs": [],
   "source": [
    "X=df.drop('Price',axis='columns')\n",
    "y=df.Price"
   ],
   "metadata": {
    "collapsed": false,
    "pycharm": {
     "name": "#%%\n"
    }
   }
  },
  {
   "cell_type": "code",
   "execution_count": 52,
   "outputs": [
    {
     "data": {
      "text/plain": "Price     float64\nVolume      int64\nyear       object\nmonth      object\nday        object\ndtype: object"
     },
     "execution_count": 10,
     "metadata": {},
     "output_type": "execute_result"
    },
    {
     "data": {
      "text/plain": "Price     float64\nVolume      int64\nyear       object\nmonth      object\nday        object\ndtype: object"
     },
     "execution_count": 52,
     "metadata": {},
     "output_type": "execute_result"
    }
   ],
   "source": [
    "df.dtypes"
   ],
   "metadata": {
    "collapsed": false,
    "pycharm": {
     "name": "#%%\n"
    }
   }
  },
  {
   "cell_type": "code",
   "execution_count": 53,
   "outputs": [],
   "source": [
    "df['year']=df['year'].astype(int)\n",
    "df['month']=df['month'].astype(int)\n",
    "df['day']=df['day'].astype(int)"
   ],
   "metadata": {
    "collapsed": false,
    "pycharm": {
     "name": "#%%\n"
    }
   }
  },
  {
   "cell_type": "code",
   "execution_count": 54,
   "outputs": [],
   "source": [
    "\n",
    "from sklearn.model_selection import train_test_split\n",
    "X_train,X_test,y_train,y_test=train_test_split(X,y,test_size=0.20)"
   ],
   "metadata": {
    "collapsed": false,
    "pycharm": {
     "name": "#%%\n"
    }
   }
  },
  {
   "cell_type": "code",
   "execution_count": 55,
   "outputs": [
    {
     "data": {
      "text/plain": "Lasso(alpha=50, max_iter=100, tol=0.1)",
      "text/html": "<style>#sk-container-id-1 {color: black;background-color: white;}#sk-container-id-1 pre{padding: 0;}#sk-container-id-1 div.sk-toggleable {background-color: white;}#sk-container-id-1 label.sk-toggleable__label {cursor: pointer;display: block;width: 100%;margin-bottom: 0;padding: 0.3em;box-sizing: border-box;text-align: center;}#sk-container-id-1 label.sk-toggleable__label-arrow:before {content: \"▸\";float: left;margin-right: 0.25em;color: #696969;}#sk-container-id-1 label.sk-toggleable__label-arrow:hover:before {color: black;}#sk-container-id-1 div.sk-estimator:hover label.sk-toggleable__label-arrow:before {color: black;}#sk-container-id-1 div.sk-toggleable__content {max-height: 0;max-width: 0;overflow: hidden;text-align: left;background-color: #f0f8ff;}#sk-container-id-1 div.sk-toggleable__content pre {margin: 0.2em;color: black;border-radius: 0.25em;background-color: #f0f8ff;}#sk-container-id-1 input.sk-toggleable__control:checked~div.sk-toggleable__content {max-height: 200px;max-width: 100%;overflow: auto;}#sk-container-id-1 input.sk-toggleable__control:checked~label.sk-toggleable__label-arrow:before {content: \"▾\";}#sk-container-id-1 div.sk-estimator input.sk-toggleable__control:checked~label.sk-toggleable__label {background-color: #d4ebff;}#sk-container-id-1 div.sk-label input.sk-toggleable__control:checked~label.sk-toggleable__label {background-color: #d4ebff;}#sk-container-id-1 input.sk-hidden--visually {border: 0;clip: rect(1px 1px 1px 1px);clip: rect(1px, 1px, 1px, 1px);height: 1px;margin: -1px;overflow: hidden;padding: 0;position: absolute;width: 1px;}#sk-container-id-1 div.sk-estimator {font-family: monospace;background-color: #f0f8ff;border: 1px dotted black;border-radius: 0.25em;box-sizing: border-box;margin-bottom: 0.5em;}#sk-container-id-1 div.sk-estimator:hover {background-color: #d4ebff;}#sk-container-id-1 div.sk-parallel-item::after {content: \"\";width: 100%;border-bottom: 1px solid gray;flex-grow: 1;}#sk-container-id-1 div.sk-label:hover label.sk-toggleable__label {background-color: #d4ebff;}#sk-container-id-1 div.sk-serial::before {content: \"\";position: absolute;border-left: 1px solid gray;box-sizing: border-box;top: 0;bottom: 0;left: 50%;z-index: 0;}#sk-container-id-1 div.sk-serial {display: flex;flex-direction: column;align-items: center;background-color: white;padding-right: 0.2em;padding-left: 0.2em;position: relative;}#sk-container-id-1 div.sk-item {position: relative;z-index: 1;}#sk-container-id-1 div.sk-parallel {display: flex;align-items: stretch;justify-content: center;background-color: white;position: relative;}#sk-container-id-1 div.sk-item::before, #sk-container-id-1 div.sk-parallel-item::before {content: \"\";position: absolute;border-left: 1px solid gray;box-sizing: border-box;top: 0;bottom: 0;left: 50%;z-index: -1;}#sk-container-id-1 div.sk-parallel-item {display: flex;flex-direction: column;z-index: 1;position: relative;background-color: white;}#sk-container-id-1 div.sk-parallel-item:first-child::after {align-self: flex-end;width: 50%;}#sk-container-id-1 div.sk-parallel-item:last-child::after {align-self: flex-start;width: 50%;}#sk-container-id-1 div.sk-parallel-item:only-child::after {width: 0;}#sk-container-id-1 div.sk-dashed-wrapped {border: 1px dashed gray;margin: 0 0.4em 0.5em 0.4em;box-sizing: border-box;padding-bottom: 0.4em;background-color: white;}#sk-container-id-1 div.sk-label label {font-family: monospace;font-weight: bold;display: inline-block;line-height: 1.2em;}#sk-container-id-1 div.sk-label-container {text-align: center;}#sk-container-id-1 div.sk-container {/* jupyter's `normalize.less` sets `[hidden] { display: none; }` but bootstrap.min.css set `[hidden] { display: none !important; }` so we also need the `!important` here to be able to override the default hidden behavior on the sphinx rendered scikit-learn.org. See: https://github.com/scikit-learn/scikit-learn/issues/21755 */display: inline-block !important;position: relative;}#sk-container-id-1 div.sk-text-repr-fallback {display: none;}</style><div id=\"sk-container-id-1\" class=\"sk-top-container\"><div class=\"sk-text-repr-fallback\"><pre>Lasso(alpha=50, max_iter=100, tol=0.1)</pre><b>In a Jupyter environment, please rerun this cell to show the HTML representation or trust the notebook. <br />On GitHub, the HTML representation is unable to render, please try loading this page with nbviewer.org.</b></div><div class=\"sk-container\" hidden><div class=\"sk-item\"><div class=\"sk-estimator sk-toggleable\"><input class=\"sk-toggleable__control sk-hidden--visually\" id=\"sk-estimator-id-1\" type=\"checkbox\" checked><label for=\"sk-estimator-id-1\" class=\"sk-toggleable__label sk-toggleable__label-arrow\">Lasso</label><div class=\"sk-toggleable__content\"><pre>Lasso(alpha=50, max_iter=100, tol=0.1)</pre></div></div></div></div></div>"
     },
     "execution_count": 13,
     "metadata": {},
     "output_type": "execute_result"
    },
    {
     "data": {
      "text/plain": "Lasso(alpha=50, max_iter=100, tol=0.1)",
      "text/html": "<style>#sk-container-id-6 {color: black;background-color: white;}#sk-container-id-6 pre{padding: 0;}#sk-container-id-6 div.sk-toggleable {background-color: white;}#sk-container-id-6 label.sk-toggleable__label {cursor: pointer;display: block;width: 100%;margin-bottom: 0;padding: 0.3em;box-sizing: border-box;text-align: center;}#sk-container-id-6 label.sk-toggleable__label-arrow:before {content: \"▸\";float: left;margin-right: 0.25em;color: #696969;}#sk-container-id-6 label.sk-toggleable__label-arrow:hover:before {color: black;}#sk-container-id-6 div.sk-estimator:hover label.sk-toggleable__label-arrow:before {color: black;}#sk-container-id-6 div.sk-toggleable__content {max-height: 0;max-width: 0;overflow: hidden;text-align: left;background-color: #f0f8ff;}#sk-container-id-6 div.sk-toggleable__content pre {margin: 0.2em;color: black;border-radius: 0.25em;background-color: #f0f8ff;}#sk-container-id-6 input.sk-toggleable__control:checked~div.sk-toggleable__content {max-height: 200px;max-width: 100%;overflow: auto;}#sk-container-id-6 input.sk-toggleable__control:checked~label.sk-toggleable__label-arrow:before {content: \"▾\";}#sk-container-id-6 div.sk-estimator input.sk-toggleable__control:checked~label.sk-toggleable__label {background-color: #d4ebff;}#sk-container-id-6 div.sk-label input.sk-toggleable__control:checked~label.sk-toggleable__label {background-color: #d4ebff;}#sk-container-id-6 input.sk-hidden--visually {border: 0;clip: rect(1px 1px 1px 1px);clip: rect(1px, 1px, 1px, 1px);height: 1px;margin: -1px;overflow: hidden;padding: 0;position: absolute;width: 1px;}#sk-container-id-6 div.sk-estimator {font-family: monospace;background-color: #f0f8ff;border: 1px dotted black;border-radius: 0.25em;box-sizing: border-box;margin-bottom: 0.5em;}#sk-container-id-6 div.sk-estimator:hover {background-color: #d4ebff;}#sk-container-id-6 div.sk-parallel-item::after {content: \"\";width: 100%;border-bottom: 1px solid gray;flex-grow: 1;}#sk-container-id-6 div.sk-label:hover label.sk-toggleable__label {background-color: #d4ebff;}#sk-container-id-6 div.sk-serial::before {content: \"\";position: absolute;border-left: 1px solid gray;box-sizing: border-box;top: 0;bottom: 0;left: 50%;z-index: 0;}#sk-container-id-6 div.sk-serial {display: flex;flex-direction: column;align-items: center;background-color: white;padding-right: 0.2em;padding-left: 0.2em;position: relative;}#sk-container-id-6 div.sk-item {position: relative;z-index: 1;}#sk-container-id-6 div.sk-parallel {display: flex;align-items: stretch;justify-content: center;background-color: white;position: relative;}#sk-container-id-6 div.sk-item::before, #sk-container-id-6 div.sk-parallel-item::before {content: \"\";position: absolute;border-left: 1px solid gray;box-sizing: border-box;top: 0;bottom: 0;left: 50%;z-index: -1;}#sk-container-id-6 div.sk-parallel-item {display: flex;flex-direction: column;z-index: 1;position: relative;background-color: white;}#sk-container-id-6 div.sk-parallel-item:first-child::after {align-self: flex-end;width: 50%;}#sk-container-id-6 div.sk-parallel-item:last-child::after {align-self: flex-start;width: 50%;}#sk-container-id-6 div.sk-parallel-item:only-child::after {width: 0;}#sk-container-id-6 div.sk-dashed-wrapped {border: 1px dashed gray;margin: 0 0.4em 0.5em 0.4em;box-sizing: border-box;padding-bottom: 0.4em;background-color: white;}#sk-container-id-6 div.sk-label label {font-family: monospace;font-weight: bold;display: inline-block;line-height: 1.2em;}#sk-container-id-6 div.sk-label-container {text-align: center;}#sk-container-id-6 div.sk-container {/* jupyter's `normalize.less` sets `[hidden] { display: none; }` but bootstrap.min.css set `[hidden] { display: none !important; }` so we also need the `!important` here to be able to override the default hidden behavior on the sphinx rendered scikit-learn.org. See: https://github.com/scikit-learn/scikit-learn/issues/21755 */display: inline-block !important;position: relative;}#sk-container-id-6 div.sk-text-repr-fallback {display: none;}</style><div id=\"sk-container-id-6\" class=\"sk-top-container\"><div class=\"sk-text-repr-fallback\"><pre>Lasso(alpha=50, max_iter=100, tol=0.1)</pre><b>In a Jupyter environment, please rerun this cell to show the HTML representation or trust the notebook. <br />On GitHub, the HTML representation is unable to render, please try loading this page with nbviewer.org.</b></div><div class=\"sk-container\" hidden><div class=\"sk-item\"><div class=\"sk-estimator sk-toggleable\"><input class=\"sk-toggleable__control sk-hidden--visually\" id=\"sk-estimator-id-6\" type=\"checkbox\" checked><label for=\"sk-estimator-id-6\" class=\"sk-toggleable__label sk-toggleable__label-arrow\">Lasso</label><div class=\"sk-toggleable__content\"><pre>Lasso(alpha=50, max_iter=100, tol=0.1)</pre></div></div></div></div></div>"
     },
     "execution_count": 55,
     "metadata": {},
     "output_type": "execute_result"
    }
   ],
   "source": [
    "from sklearn.linear_model import Lasso\n",
    "lasso=Lasso(alpha=50,max_iter=100,tol=0.1)\n",
    "lasso.fit(X_train,y_train)"
   ],
   "metadata": {
    "collapsed": false,
    "pycharm": {
     "name": "#%%\n"
    }
   }
  },
  {
   "cell_type": "code",
   "execution_count": 56,
   "outputs": [
    {
     "data": {
      "text/plain": "0.6331073995897601"
     },
     "execution_count": 14,
     "metadata": {},
     "output_type": "execute_result"
    },
    {
     "data": {
      "text/plain": "0.6443462309134413"
     },
     "execution_count": 56,
     "metadata": {},
     "output_type": "execute_result"
    }
   ],
   "source": [
    "lasso.score(X_train,y_train)"
   ],
   "metadata": {
    "collapsed": false,
    "pycharm": {
     "name": "#%%\n"
    }
   }
  },
  {
   "cell_type": "code",
   "execution_count": 57,
   "outputs": [
    {
     "data": {
      "text/plain": "LinearRegression()",
      "text/html": "<style>#sk-container-id-2 {color: black;background-color: white;}#sk-container-id-2 pre{padding: 0;}#sk-container-id-2 div.sk-toggleable {background-color: white;}#sk-container-id-2 label.sk-toggleable__label {cursor: pointer;display: block;width: 100%;margin-bottom: 0;padding: 0.3em;box-sizing: border-box;text-align: center;}#sk-container-id-2 label.sk-toggleable__label-arrow:before {content: \"▸\";float: left;margin-right: 0.25em;color: #696969;}#sk-container-id-2 label.sk-toggleable__label-arrow:hover:before {color: black;}#sk-container-id-2 div.sk-estimator:hover label.sk-toggleable__label-arrow:before {color: black;}#sk-container-id-2 div.sk-toggleable__content {max-height: 0;max-width: 0;overflow: hidden;text-align: left;background-color: #f0f8ff;}#sk-container-id-2 div.sk-toggleable__content pre {margin: 0.2em;color: black;border-radius: 0.25em;background-color: #f0f8ff;}#sk-container-id-2 input.sk-toggleable__control:checked~div.sk-toggleable__content {max-height: 200px;max-width: 100%;overflow: auto;}#sk-container-id-2 input.sk-toggleable__control:checked~label.sk-toggleable__label-arrow:before {content: \"▾\";}#sk-container-id-2 div.sk-estimator input.sk-toggleable__control:checked~label.sk-toggleable__label {background-color: #d4ebff;}#sk-container-id-2 div.sk-label input.sk-toggleable__control:checked~label.sk-toggleable__label {background-color: #d4ebff;}#sk-container-id-2 input.sk-hidden--visually {border: 0;clip: rect(1px 1px 1px 1px);clip: rect(1px, 1px, 1px, 1px);height: 1px;margin: -1px;overflow: hidden;padding: 0;position: absolute;width: 1px;}#sk-container-id-2 div.sk-estimator {font-family: monospace;background-color: #f0f8ff;border: 1px dotted black;border-radius: 0.25em;box-sizing: border-box;margin-bottom: 0.5em;}#sk-container-id-2 div.sk-estimator:hover {background-color: #d4ebff;}#sk-container-id-2 div.sk-parallel-item::after {content: \"\";width: 100%;border-bottom: 1px solid gray;flex-grow: 1;}#sk-container-id-2 div.sk-label:hover label.sk-toggleable__label {background-color: #d4ebff;}#sk-container-id-2 div.sk-serial::before {content: \"\";position: absolute;border-left: 1px solid gray;box-sizing: border-box;top: 0;bottom: 0;left: 50%;z-index: 0;}#sk-container-id-2 div.sk-serial {display: flex;flex-direction: column;align-items: center;background-color: white;padding-right: 0.2em;padding-left: 0.2em;position: relative;}#sk-container-id-2 div.sk-item {position: relative;z-index: 1;}#sk-container-id-2 div.sk-parallel {display: flex;align-items: stretch;justify-content: center;background-color: white;position: relative;}#sk-container-id-2 div.sk-item::before, #sk-container-id-2 div.sk-parallel-item::before {content: \"\";position: absolute;border-left: 1px solid gray;box-sizing: border-box;top: 0;bottom: 0;left: 50%;z-index: -1;}#sk-container-id-2 div.sk-parallel-item {display: flex;flex-direction: column;z-index: 1;position: relative;background-color: white;}#sk-container-id-2 div.sk-parallel-item:first-child::after {align-self: flex-end;width: 50%;}#sk-container-id-2 div.sk-parallel-item:last-child::after {align-self: flex-start;width: 50%;}#sk-container-id-2 div.sk-parallel-item:only-child::after {width: 0;}#sk-container-id-2 div.sk-dashed-wrapped {border: 1px dashed gray;margin: 0 0.4em 0.5em 0.4em;box-sizing: border-box;padding-bottom: 0.4em;background-color: white;}#sk-container-id-2 div.sk-label label {font-family: monospace;font-weight: bold;display: inline-block;line-height: 1.2em;}#sk-container-id-2 div.sk-label-container {text-align: center;}#sk-container-id-2 div.sk-container {/* jupyter's `normalize.less` sets `[hidden] { display: none; }` but bootstrap.min.css set `[hidden] { display: none !important; }` so we also need the `!important` here to be able to override the default hidden behavior on the sphinx rendered scikit-learn.org. See: https://github.com/scikit-learn/scikit-learn/issues/21755 */display: inline-block !important;position: relative;}#sk-container-id-2 div.sk-text-repr-fallback {display: none;}</style><div id=\"sk-container-id-2\" class=\"sk-top-container\"><div class=\"sk-text-repr-fallback\"><pre>LinearRegression()</pre><b>In a Jupyter environment, please rerun this cell to show the HTML representation or trust the notebook. <br />On GitHub, the HTML representation is unable to render, please try loading this page with nbviewer.org.</b></div><div class=\"sk-container\" hidden><div class=\"sk-item\"><div class=\"sk-estimator sk-toggleable\"><input class=\"sk-toggleable__control sk-hidden--visually\" id=\"sk-estimator-id-2\" type=\"checkbox\" checked><label for=\"sk-estimator-id-2\" class=\"sk-toggleable__label sk-toggleable__label-arrow\">LinearRegression</label><div class=\"sk-toggleable__content\"><pre>LinearRegression()</pre></div></div></div></div></div>"
     },
     "execution_count": 15,
     "metadata": {},
     "output_type": "execute_result"
    },
    {
     "data": {
      "text/plain": "LinearRegression()",
      "text/html": "<style>#sk-container-id-7 {color: black;background-color: white;}#sk-container-id-7 pre{padding: 0;}#sk-container-id-7 div.sk-toggleable {background-color: white;}#sk-container-id-7 label.sk-toggleable__label {cursor: pointer;display: block;width: 100%;margin-bottom: 0;padding: 0.3em;box-sizing: border-box;text-align: center;}#sk-container-id-7 label.sk-toggleable__label-arrow:before {content: \"▸\";float: left;margin-right: 0.25em;color: #696969;}#sk-container-id-7 label.sk-toggleable__label-arrow:hover:before {color: black;}#sk-container-id-7 div.sk-estimator:hover label.sk-toggleable__label-arrow:before {color: black;}#sk-container-id-7 div.sk-toggleable__content {max-height: 0;max-width: 0;overflow: hidden;text-align: left;background-color: #f0f8ff;}#sk-container-id-7 div.sk-toggleable__content pre {margin: 0.2em;color: black;border-radius: 0.25em;background-color: #f0f8ff;}#sk-container-id-7 input.sk-toggleable__control:checked~div.sk-toggleable__content {max-height: 200px;max-width: 100%;overflow: auto;}#sk-container-id-7 input.sk-toggleable__control:checked~label.sk-toggleable__label-arrow:before {content: \"▾\";}#sk-container-id-7 div.sk-estimator input.sk-toggleable__control:checked~label.sk-toggleable__label {background-color: #d4ebff;}#sk-container-id-7 div.sk-label input.sk-toggleable__control:checked~label.sk-toggleable__label {background-color: #d4ebff;}#sk-container-id-7 input.sk-hidden--visually {border: 0;clip: rect(1px 1px 1px 1px);clip: rect(1px, 1px, 1px, 1px);height: 1px;margin: -1px;overflow: hidden;padding: 0;position: absolute;width: 1px;}#sk-container-id-7 div.sk-estimator {font-family: monospace;background-color: #f0f8ff;border: 1px dotted black;border-radius: 0.25em;box-sizing: border-box;margin-bottom: 0.5em;}#sk-container-id-7 div.sk-estimator:hover {background-color: #d4ebff;}#sk-container-id-7 div.sk-parallel-item::after {content: \"\";width: 100%;border-bottom: 1px solid gray;flex-grow: 1;}#sk-container-id-7 div.sk-label:hover label.sk-toggleable__label {background-color: #d4ebff;}#sk-container-id-7 div.sk-serial::before {content: \"\";position: absolute;border-left: 1px solid gray;box-sizing: border-box;top: 0;bottom: 0;left: 50%;z-index: 0;}#sk-container-id-7 div.sk-serial {display: flex;flex-direction: column;align-items: center;background-color: white;padding-right: 0.2em;padding-left: 0.2em;position: relative;}#sk-container-id-7 div.sk-item {position: relative;z-index: 1;}#sk-container-id-7 div.sk-parallel {display: flex;align-items: stretch;justify-content: center;background-color: white;position: relative;}#sk-container-id-7 div.sk-item::before, #sk-container-id-7 div.sk-parallel-item::before {content: \"\";position: absolute;border-left: 1px solid gray;box-sizing: border-box;top: 0;bottom: 0;left: 50%;z-index: -1;}#sk-container-id-7 div.sk-parallel-item {display: flex;flex-direction: column;z-index: 1;position: relative;background-color: white;}#sk-container-id-7 div.sk-parallel-item:first-child::after {align-self: flex-end;width: 50%;}#sk-container-id-7 div.sk-parallel-item:last-child::after {align-self: flex-start;width: 50%;}#sk-container-id-7 div.sk-parallel-item:only-child::after {width: 0;}#sk-container-id-7 div.sk-dashed-wrapped {border: 1px dashed gray;margin: 0 0.4em 0.5em 0.4em;box-sizing: border-box;padding-bottom: 0.4em;background-color: white;}#sk-container-id-7 div.sk-label label {font-family: monospace;font-weight: bold;display: inline-block;line-height: 1.2em;}#sk-container-id-7 div.sk-label-container {text-align: center;}#sk-container-id-7 div.sk-container {/* jupyter's `normalize.less` sets `[hidden] { display: none; }` but bootstrap.min.css set `[hidden] { display: none !important; }` so we also need the `!important` here to be able to override the default hidden behavior on the sphinx rendered scikit-learn.org. See: https://github.com/scikit-learn/scikit-learn/issues/21755 */display: inline-block !important;position: relative;}#sk-container-id-7 div.sk-text-repr-fallback {display: none;}</style><div id=\"sk-container-id-7\" class=\"sk-top-container\"><div class=\"sk-text-repr-fallback\"><pre>LinearRegression()</pre><b>In a Jupyter environment, please rerun this cell to show the HTML representation or trust the notebook. <br />On GitHub, the HTML representation is unable to render, please try loading this page with nbviewer.org.</b></div><div class=\"sk-container\" hidden><div class=\"sk-item\"><div class=\"sk-estimator sk-toggleable\"><input class=\"sk-toggleable__control sk-hidden--visually\" id=\"sk-estimator-id-7\" type=\"checkbox\" checked><label for=\"sk-estimator-id-7\" class=\"sk-toggleable__label sk-toggleable__label-arrow\">LinearRegression</label><div class=\"sk-toggleable__content\"><pre>LinearRegression()</pre></div></div></div></div></div>"
     },
     "execution_count": 57,
     "metadata": {},
     "output_type": "execute_result"
    }
   ],
   "source": [
    "from sklearn.linear_model import LinearRegression\n",
    "la=LinearRegression()\n",
    "la.fit(X_train,y_train)"
   ],
   "metadata": {
    "collapsed": false,
    "pycharm": {
     "name": "#%%\n"
    }
   }
  },
  {
   "cell_type": "code",
   "execution_count": 58,
   "outputs": [
    {
     "data": {
      "text/plain": "0.6331134567314629"
     },
     "execution_count": 16,
     "metadata": {},
     "output_type": "execute_result"
    },
    {
     "data": {
      "text/plain": "0.6443520728915597"
     },
     "execution_count": 58,
     "metadata": {},
     "output_type": "execute_result"
    }
   ],
   "source": [
    "la.score(X_train,y_train)"
   ],
   "metadata": {
    "collapsed": false,
    "pycharm": {
     "name": "#%%\n"
    }
   }
  },
  {
   "cell_type": "code",
   "execution_count": 59,
   "outputs": [
    {
     "data": {
      "text/plain": "GradientBoostingRegressor(learning_rate=0.8, n_estimators=4)",
      "text/html": "<style>#sk-container-id-3 {color: black;background-color: white;}#sk-container-id-3 pre{padding: 0;}#sk-container-id-3 div.sk-toggleable {background-color: white;}#sk-container-id-3 label.sk-toggleable__label {cursor: pointer;display: block;width: 100%;margin-bottom: 0;padding: 0.3em;box-sizing: border-box;text-align: center;}#sk-container-id-3 label.sk-toggleable__label-arrow:before {content: \"▸\";float: left;margin-right: 0.25em;color: #696969;}#sk-container-id-3 label.sk-toggleable__label-arrow:hover:before {color: black;}#sk-container-id-3 div.sk-estimator:hover label.sk-toggleable__label-arrow:before {color: black;}#sk-container-id-3 div.sk-toggleable__content {max-height: 0;max-width: 0;overflow: hidden;text-align: left;background-color: #f0f8ff;}#sk-container-id-3 div.sk-toggleable__content pre {margin: 0.2em;color: black;border-radius: 0.25em;background-color: #f0f8ff;}#sk-container-id-3 input.sk-toggleable__control:checked~div.sk-toggleable__content {max-height: 200px;max-width: 100%;overflow: auto;}#sk-container-id-3 input.sk-toggleable__control:checked~label.sk-toggleable__label-arrow:before {content: \"▾\";}#sk-container-id-3 div.sk-estimator input.sk-toggleable__control:checked~label.sk-toggleable__label {background-color: #d4ebff;}#sk-container-id-3 div.sk-label input.sk-toggleable__control:checked~label.sk-toggleable__label {background-color: #d4ebff;}#sk-container-id-3 input.sk-hidden--visually {border: 0;clip: rect(1px 1px 1px 1px);clip: rect(1px, 1px, 1px, 1px);height: 1px;margin: -1px;overflow: hidden;padding: 0;position: absolute;width: 1px;}#sk-container-id-3 div.sk-estimator {font-family: monospace;background-color: #f0f8ff;border: 1px dotted black;border-radius: 0.25em;box-sizing: border-box;margin-bottom: 0.5em;}#sk-container-id-3 div.sk-estimator:hover {background-color: #d4ebff;}#sk-container-id-3 div.sk-parallel-item::after {content: \"\";width: 100%;border-bottom: 1px solid gray;flex-grow: 1;}#sk-container-id-3 div.sk-label:hover label.sk-toggleable__label {background-color: #d4ebff;}#sk-container-id-3 div.sk-serial::before {content: \"\";position: absolute;border-left: 1px solid gray;box-sizing: border-box;top: 0;bottom: 0;left: 50%;z-index: 0;}#sk-container-id-3 div.sk-serial {display: flex;flex-direction: column;align-items: center;background-color: white;padding-right: 0.2em;padding-left: 0.2em;position: relative;}#sk-container-id-3 div.sk-item {position: relative;z-index: 1;}#sk-container-id-3 div.sk-parallel {display: flex;align-items: stretch;justify-content: center;background-color: white;position: relative;}#sk-container-id-3 div.sk-item::before, #sk-container-id-3 div.sk-parallel-item::before {content: \"\";position: absolute;border-left: 1px solid gray;box-sizing: border-box;top: 0;bottom: 0;left: 50%;z-index: -1;}#sk-container-id-3 div.sk-parallel-item {display: flex;flex-direction: column;z-index: 1;position: relative;background-color: white;}#sk-container-id-3 div.sk-parallel-item:first-child::after {align-self: flex-end;width: 50%;}#sk-container-id-3 div.sk-parallel-item:last-child::after {align-self: flex-start;width: 50%;}#sk-container-id-3 div.sk-parallel-item:only-child::after {width: 0;}#sk-container-id-3 div.sk-dashed-wrapped {border: 1px dashed gray;margin: 0 0.4em 0.5em 0.4em;box-sizing: border-box;padding-bottom: 0.4em;background-color: white;}#sk-container-id-3 div.sk-label label {font-family: monospace;font-weight: bold;display: inline-block;line-height: 1.2em;}#sk-container-id-3 div.sk-label-container {text-align: center;}#sk-container-id-3 div.sk-container {/* jupyter's `normalize.less` sets `[hidden] { display: none; }` but bootstrap.min.css set `[hidden] { display: none !important; }` so we also need the `!important` here to be able to override the default hidden behavior on the sphinx rendered scikit-learn.org. See: https://github.com/scikit-learn/scikit-learn/issues/21755 */display: inline-block !important;position: relative;}#sk-container-id-3 div.sk-text-repr-fallback {display: none;}</style><div id=\"sk-container-id-3\" class=\"sk-top-container\"><div class=\"sk-text-repr-fallback\"><pre>GradientBoostingRegressor(learning_rate=0.8, n_estimators=4)</pre><b>In a Jupyter environment, please rerun this cell to show the HTML representation or trust the notebook. <br />On GitHub, the HTML representation is unable to render, please try loading this page with nbviewer.org.</b></div><div class=\"sk-container\" hidden><div class=\"sk-item\"><div class=\"sk-estimator sk-toggleable\"><input class=\"sk-toggleable__control sk-hidden--visually\" id=\"sk-estimator-id-3\" type=\"checkbox\" checked><label for=\"sk-estimator-id-3\" class=\"sk-toggleable__label sk-toggleable__label-arrow\">GradientBoostingRegressor</label><div class=\"sk-toggleable__content\"><pre>GradientBoostingRegressor(learning_rate=0.8, n_estimators=4)</pre></div></div></div></div></div>"
     },
     "execution_count": 17,
     "metadata": {},
     "output_type": "execute_result"
    },
    {
     "data": {
      "text/plain": "GradientBoostingRegressor(learning_rate=0.8, n_estimators=4)",
      "text/html": "<style>#sk-container-id-8 {color: black;background-color: white;}#sk-container-id-8 pre{padding: 0;}#sk-container-id-8 div.sk-toggleable {background-color: white;}#sk-container-id-8 label.sk-toggleable__label {cursor: pointer;display: block;width: 100%;margin-bottom: 0;padding: 0.3em;box-sizing: border-box;text-align: center;}#sk-container-id-8 label.sk-toggleable__label-arrow:before {content: \"▸\";float: left;margin-right: 0.25em;color: #696969;}#sk-container-id-8 label.sk-toggleable__label-arrow:hover:before {color: black;}#sk-container-id-8 div.sk-estimator:hover label.sk-toggleable__label-arrow:before {color: black;}#sk-container-id-8 div.sk-toggleable__content {max-height: 0;max-width: 0;overflow: hidden;text-align: left;background-color: #f0f8ff;}#sk-container-id-8 div.sk-toggleable__content pre {margin: 0.2em;color: black;border-radius: 0.25em;background-color: #f0f8ff;}#sk-container-id-8 input.sk-toggleable__control:checked~div.sk-toggleable__content {max-height: 200px;max-width: 100%;overflow: auto;}#sk-container-id-8 input.sk-toggleable__control:checked~label.sk-toggleable__label-arrow:before {content: \"▾\";}#sk-container-id-8 div.sk-estimator input.sk-toggleable__control:checked~label.sk-toggleable__label {background-color: #d4ebff;}#sk-container-id-8 div.sk-label input.sk-toggleable__control:checked~label.sk-toggleable__label {background-color: #d4ebff;}#sk-container-id-8 input.sk-hidden--visually {border: 0;clip: rect(1px 1px 1px 1px);clip: rect(1px, 1px, 1px, 1px);height: 1px;margin: -1px;overflow: hidden;padding: 0;position: absolute;width: 1px;}#sk-container-id-8 div.sk-estimator {font-family: monospace;background-color: #f0f8ff;border: 1px dotted black;border-radius: 0.25em;box-sizing: border-box;margin-bottom: 0.5em;}#sk-container-id-8 div.sk-estimator:hover {background-color: #d4ebff;}#sk-container-id-8 div.sk-parallel-item::after {content: \"\";width: 100%;border-bottom: 1px solid gray;flex-grow: 1;}#sk-container-id-8 div.sk-label:hover label.sk-toggleable__label {background-color: #d4ebff;}#sk-container-id-8 div.sk-serial::before {content: \"\";position: absolute;border-left: 1px solid gray;box-sizing: border-box;top: 0;bottom: 0;left: 50%;z-index: 0;}#sk-container-id-8 div.sk-serial {display: flex;flex-direction: column;align-items: center;background-color: white;padding-right: 0.2em;padding-left: 0.2em;position: relative;}#sk-container-id-8 div.sk-item {position: relative;z-index: 1;}#sk-container-id-8 div.sk-parallel {display: flex;align-items: stretch;justify-content: center;background-color: white;position: relative;}#sk-container-id-8 div.sk-item::before, #sk-container-id-8 div.sk-parallel-item::before {content: \"\";position: absolute;border-left: 1px solid gray;box-sizing: border-box;top: 0;bottom: 0;left: 50%;z-index: -1;}#sk-container-id-8 div.sk-parallel-item {display: flex;flex-direction: column;z-index: 1;position: relative;background-color: white;}#sk-container-id-8 div.sk-parallel-item:first-child::after {align-self: flex-end;width: 50%;}#sk-container-id-8 div.sk-parallel-item:last-child::after {align-self: flex-start;width: 50%;}#sk-container-id-8 div.sk-parallel-item:only-child::after {width: 0;}#sk-container-id-8 div.sk-dashed-wrapped {border: 1px dashed gray;margin: 0 0.4em 0.5em 0.4em;box-sizing: border-box;padding-bottom: 0.4em;background-color: white;}#sk-container-id-8 div.sk-label label {font-family: monospace;font-weight: bold;display: inline-block;line-height: 1.2em;}#sk-container-id-8 div.sk-label-container {text-align: center;}#sk-container-id-8 div.sk-container {/* jupyter's `normalize.less` sets `[hidden] { display: none; }` but bootstrap.min.css set `[hidden] { display: none !important; }` so we also need the `!important` here to be able to override the default hidden behavior on the sphinx rendered scikit-learn.org. See: https://github.com/scikit-learn/scikit-learn/issues/21755 */display: inline-block !important;position: relative;}#sk-container-id-8 div.sk-text-repr-fallback {display: none;}</style><div id=\"sk-container-id-8\" class=\"sk-top-container\"><div class=\"sk-text-repr-fallback\"><pre>GradientBoostingRegressor(learning_rate=0.8, n_estimators=4)</pre><b>In a Jupyter environment, please rerun this cell to show the HTML representation or trust the notebook. <br />On GitHub, the HTML representation is unable to render, please try loading this page with nbviewer.org.</b></div><div class=\"sk-container\" hidden><div class=\"sk-item\"><div class=\"sk-estimator sk-toggleable\"><input class=\"sk-toggleable__control sk-hidden--visually\" id=\"sk-estimator-id-8\" type=\"checkbox\" checked><label for=\"sk-estimator-id-8\" class=\"sk-toggleable__label sk-toggleable__label-arrow\">GradientBoostingRegressor</label><div class=\"sk-toggleable__content\"><pre>GradientBoostingRegressor(learning_rate=0.8, n_estimators=4)</pre></div></div></div></div></div>"
     },
     "execution_count": 59,
     "metadata": {},
     "output_type": "execute_result"
    }
   ],
   "source": [
    "from sklearn.ensemble import GradientBoostingRegressor\n",
    "gr=GradientBoostingRegressor(max_depth=3,n_estimators=4,learning_rate=0.8)\n",
    "gr.fit(X_train,y_train)"
   ],
   "metadata": {
    "collapsed": false,
    "pycharm": {
     "name": "#%%\n"
    }
   }
  },
  {
   "cell_type": "code",
   "execution_count": 60,
   "outputs": [
    {
     "data": {
      "text/plain": "0.9766664795114594"
     },
     "execution_count": 18,
     "metadata": {},
     "output_type": "execute_result"
    },
    {
     "data": {
      "text/plain": "0.9772187966646628"
     },
     "execution_count": 60,
     "metadata": {},
     "output_type": "execute_result"
    }
   ],
   "source": [
    "gr.score(X_train,y_train)"
   ],
   "metadata": {
    "collapsed": false,
    "pycharm": {
     "name": "#%%\n"
    }
   }
  },
  {
   "cell_type": "code",
   "execution_count": 61,
   "outputs": [
    {
     "data": {
      "text/plain": "KNeighborsRegressor(n_neighbors=200)",
      "text/html": "<style>#sk-container-id-4 {color: black;background-color: white;}#sk-container-id-4 pre{padding: 0;}#sk-container-id-4 div.sk-toggleable {background-color: white;}#sk-container-id-4 label.sk-toggleable__label {cursor: pointer;display: block;width: 100%;margin-bottom: 0;padding: 0.3em;box-sizing: border-box;text-align: center;}#sk-container-id-4 label.sk-toggleable__label-arrow:before {content: \"▸\";float: left;margin-right: 0.25em;color: #696969;}#sk-container-id-4 label.sk-toggleable__label-arrow:hover:before {color: black;}#sk-container-id-4 div.sk-estimator:hover label.sk-toggleable__label-arrow:before {color: black;}#sk-container-id-4 div.sk-toggleable__content {max-height: 0;max-width: 0;overflow: hidden;text-align: left;background-color: #f0f8ff;}#sk-container-id-4 div.sk-toggleable__content pre {margin: 0.2em;color: black;border-radius: 0.25em;background-color: #f0f8ff;}#sk-container-id-4 input.sk-toggleable__control:checked~div.sk-toggleable__content {max-height: 200px;max-width: 100%;overflow: auto;}#sk-container-id-4 input.sk-toggleable__control:checked~label.sk-toggleable__label-arrow:before {content: \"▾\";}#sk-container-id-4 div.sk-estimator input.sk-toggleable__control:checked~label.sk-toggleable__label {background-color: #d4ebff;}#sk-container-id-4 div.sk-label input.sk-toggleable__control:checked~label.sk-toggleable__label {background-color: #d4ebff;}#sk-container-id-4 input.sk-hidden--visually {border: 0;clip: rect(1px 1px 1px 1px);clip: rect(1px, 1px, 1px, 1px);height: 1px;margin: -1px;overflow: hidden;padding: 0;position: absolute;width: 1px;}#sk-container-id-4 div.sk-estimator {font-family: monospace;background-color: #f0f8ff;border: 1px dotted black;border-radius: 0.25em;box-sizing: border-box;margin-bottom: 0.5em;}#sk-container-id-4 div.sk-estimator:hover {background-color: #d4ebff;}#sk-container-id-4 div.sk-parallel-item::after {content: \"\";width: 100%;border-bottom: 1px solid gray;flex-grow: 1;}#sk-container-id-4 div.sk-label:hover label.sk-toggleable__label {background-color: #d4ebff;}#sk-container-id-4 div.sk-serial::before {content: \"\";position: absolute;border-left: 1px solid gray;box-sizing: border-box;top: 0;bottom: 0;left: 50%;z-index: 0;}#sk-container-id-4 div.sk-serial {display: flex;flex-direction: column;align-items: center;background-color: white;padding-right: 0.2em;padding-left: 0.2em;position: relative;}#sk-container-id-4 div.sk-item {position: relative;z-index: 1;}#sk-container-id-4 div.sk-parallel {display: flex;align-items: stretch;justify-content: center;background-color: white;position: relative;}#sk-container-id-4 div.sk-item::before, #sk-container-id-4 div.sk-parallel-item::before {content: \"\";position: absolute;border-left: 1px solid gray;box-sizing: border-box;top: 0;bottom: 0;left: 50%;z-index: -1;}#sk-container-id-4 div.sk-parallel-item {display: flex;flex-direction: column;z-index: 1;position: relative;background-color: white;}#sk-container-id-4 div.sk-parallel-item:first-child::after {align-self: flex-end;width: 50%;}#sk-container-id-4 div.sk-parallel-item:last-child::after {align-self: flex-start;width: 50%;}#sk-container-id-4 div.sk-parallel-item:only-child::after {width: 0;}#sk-container-id-4 div.sk-dashed-wrapped {border: 1px dashed gray;margin: 0 0.4em 0.5em 0.4em;box-sizing: border-box;padding-bottom: 0.4em;background-color: white;}#sk-container-id-4 div.sk-label label {font-family: monospace;font-weight: bold;display: inline-block;line-height: 1.2em;}#sk-container-id-4 div.sk-label-container {text-align: center;}#sk-container-id-4 div.sk-container {/* jupyter's `normalize.less` sets `[hidden] { display: none; }` but bootstrap.min.css set `[hidden] { display: none !important; }` so we also need the `!important` here to be able to override the default hidden behavior on the sphinx rendered scikit-learn.org. See: https://github.com/scikit-learn/scikit-learn/issues/21755 */display: inline-block !important;position: relative;}#sk-container-id-4 div.sk-text-repr-fallback {display: none;}</style><div id=\"sk-container-id-4\" class=\"sk-top-container\"><div class=\"sk-text-repr-fallback\"><pre>KNeighborsRegressor(n_neighbors=200)</pre><b>In a Jupyter environment, please rerun this cell to show the HTML representation or trust the notebook. <br />On GitHub, the HTML representation is unable to render, please try loading this page with nbviewer.org.</b></div><div class=\"sk-container\" hidden><div class=\"sk-item\"><div class=\"sk-estimator sk-toggleable\"><input class=\"sk-toggleable__control sk-hidden--visually\" id=\"sk-estimator-id-4\" type=\"checkbox\" checked><label for=\"sk-estimator-id-4\" class=\"sk-toggleable__label sk-toggleable__label-arrow\">KNeighborsRegressor</label><div class=\"sk-toggleable__content\"><pre>KNeighborsRegressor(n_neighbors=200)</pre></div></div></div></div></div>"
     },
     "execution_count": 19,
     "metadata": {},
     "output_type": "execute_result"
    },
    {
     "data": {
      "text/plain": "KNeighborsRegressor(n_neighbors=200)",
      "text/html": "<style>#sk-container-id-9 {color: black;background-color: white;}#sk-container-id-9 pre{padding: 0;}#sk-container-id-9 div.sk-toggleable {background-color: white;}#sk-container-id-9 label.sk-toggleable__label {cursor: pointer;display: block;width: 100%;margin-bottom: 0;padding: 0.3em;box-sizing: border-box;text-align: center;}#sk-container-id-9 label.sk-toggleable__label-arrow:before {content: \"▸\";float: left;margin-right: 0.25em;color: #696969;}#sk-container-id-9 label.sk-toggleable__label-arrow:hover:before {color: black;}#sk-container-id-9 div.sk-estimator:hover label.sk-toggleable__label-arrow:before {color: black;}#sk-container-id-9 div.sk-toggleable__content {max-height: 0;max-width: 0;overflow: hidden;text-align: left;background-color: #f0f8ff;}#sk-container-id-9 div.sk-toggleable__content pre {margin: 0.2em;color: black;border-radius: 0.25em;background-color: #f0f8ff;}#sk-container-id-9 input.sk-toggleable__control:checked~div.sk-toggleable__content {max-height: 200px;max-width: 100%;overflow: auto;}#sk-container-id-9 input.sk-toggleable__control:checked~label.sk-toggleable__label-arrow:before {content: \"▾\";}#sk-container-id-9 div.sk-estimator input.sk-toggleable__control:checked~label.sk-toggleable__label {background-color: #d4ebff;}#sk-container-id-9 div.sk-label input.sk-toggleable__control:checked~label.sk-toggleable__label {background-color: #d4ebff;}#sk-container-id-9 input.sk-hidden--visually {border: 0;clip: rect(1px 1px 1px 1px);clip: rect(1px, 1px, 1px, 1px);height: 1px;margin: -1px;overflow: hidden;padding: 0;position: absolute;width: 1px;}#sk-container-id-9 div.sk-estimator {font-family: monospace;background-color: #f0f8ff;border: 1px dotted black;border-radius: 0.25em;box-sizing: border-box;margin-bottom: 0.5em;}#sk-container-id-9 div.sk-estimator:hover {background-color: #d4ebff;}#sk-container-id-9 div.sk-parallel-item::after {content: \"\";width: 100%;border-bottom: 1px solid gray;flex-grow: 1;}#sk-container-id-9 div.sk-label:hover label.sk-toggleable__label {background-color: #d4ebff;}#sk-container-id-9 div.sk-serial::before {content: \"\";position: absolute;border-left: 1px solid gray;box-sizing: border-box;top: 0;bottom: 0;left: 50%;z-index: 0;}#sk-container-id-9 div.sk-serial {display: flex;flex-direction: column;align-items: center;background-color: white;padding-right: 0.2em;padding-left: 0.2em;position: relative;}#sk-container-id-9 div.sk-item {position: relative;z-index: 1;}#sk-container-id-9 div.sk-parallel {display: flex;align-items: stretch;justify-content: center;background-color: white;position: relative;}#sk-container-id-9 div.sk-item::before, #sk-container-id-9 div.sk-parallel-item::before {content: \"\";position: absolute;border-left: 1px solid gray;box-sizing: border-box;top: 0;bottom: 0;left: 50%;z-index: -1;}#sk-container-id-9 div.sk-parallel-item {display: flex;flex-direction: column;z-index: 1;position: relative;background-color: white;}#sk-container-id-9 div.sk-parallel-item:first-child::after {align-self: flex-end;width: 50%;}#sk-container-id-9 div.sk-parallel-item:last-child::after {align-self: flex-start;width: 50%;}#sk-container-id-9 div.sk-parallel-item:only-child::after {width: 0;}#sk-container-id-9 div.sk-dashed-wrapped {border: 1px dashed gray;margin: 0 0.4em 0.5em 0.4em;box-sizing: border-box;padding-bottom: 0.4em;background-color: white;}#sk-container-id-9 div.sk-label label {font-family: monospace;font-weight: bold;display: inline-block;line-height: 1.2em;}#sk-container-id-9 div.sk-label-container {text-align: center;}#sk-container-id-9 div.sk-container {/* jupyter's `normalize.less` sets `[hidden] { display: none; }` but bootstrap.min.css set `[hidden] { display: none !important; }` so we also need the `!important` here to be able to override the default hidden behavior on the sphinx rendered scikit-learn.org. See: https://github.com/scikit-learn/scikit-learn/issues/21755 */display: inline-block !important;position: relative;}#sk-container-id-9 div.sk-text-repr-fallback {display: none;}</style><div id=\"sk-container-id-9\" class=\"sk-top-container\"><div class=\"sk-text-repr-fallback\"><pre>KNeighborsRegressor(n_neighbors=200)</pre><b>In a Jupyter environment, please rerun this cell to show the HTML representation or trust the notebook. <br />On GitHub, the HTML representation is unable to render, please try loading this page with nbviewer.org.</b></div><div class=\"sk-container\" hidden><div class=\"sk-item\"><div class=\"sk-estimator sk-toggleable\"><input class=\"sk-toggleable__control sk-hidden--visually\" id=\"sk-estimator-id-9\" type=\"checkbox\" checked><label for=\"sk-estimator-id-9\" class=\"sk-toggleable__label sk-toggleable__label-arrow\">KNeighborsRegressor</label><div class=\"sk-toggleable__content\"><pre>KNeighborsRegressor(n_neighbors=200)</pre></div></div></div></div></div>"
     },
     "execution_count": 61,
     "metadata": {},
     "output_type": "execute_result"
    }
   ],
   "source": [
    "from sklearn.neighbors import KNeighborsRegressor\n",
    "knn=KNeighborsRegressor(n_neighbors=200)\n",
    "knn.fit(X_train,y_train)"
   ],
   "metadata": {
    "collapsed": false,
    "pycharm": {
     "name": "#%%\n"
    }
   }
  },
  {
   "cell_type": "code",
   "execution_count": 62,
   "outputs": [
    {
     "data": {
      "text/plain": "0.5702008681787167"
     },
     "execution_count": 20,
     "metadata": {},
     "output_type": "execute_result"
    },
    {
     "data": {
      "text/plain": "0.5368511903658153"
     },
     "execution_count": 62,
     "metadata": {},
     "output_type": "execute_result"
    }
   ],
   "source": [
    "knn.score(X_test,y_test)"
   ],
   "metadata": {
    "collapsed": false,
    "pycharm": {
     "name": "#%%\n"
    }
   }
  },
  {
   "cell_type": "code",
   "execution_count": 63,
   "outputs": [
    {
     "data": {
      "text/plain": "RandomForestRegressor(max_leaf_nodes=220, n_estimators=220)",
      "text/html": "<style>#sk-container-id-5 {color: black;background-color: white;}#sk-container-id-5 pre{padding: 0;}#sk-container-id-5 div.sk-toggleable {background-color: white;}#sk-container-id-5 label.sk-toggleable__label {cursor: pointer;display: block;width: 100%;margin-bottom: 0;padding: 0.3em;box-sizing: border-box;text-align: center;}#sk-container-id-5 label.sk-toggleable__label-arrow:before {content: \"▸\";float: left;margin-right: 0.25em;color: #696969;}#sk-container-id-5 label.sk-toggleable__label-arrow:hover:before {color: black;}#sk-container-id-5 div.sk-estimator:hover label.sk-toggleable__label-arrow:before {color: black;}#sk-container-id-5 div.sk-toggleable__content {max-height: 0;max-width: 0;overflow: hidden;text-align: left;background-color: #f0f8ff;}#sk-container-id-5 div.sk-toggleable__content pre {margin: 0.2em;color: black;border-radius: 0.25em;background-color: #f0f8ff;}#sk-container-id-5 input.sk-toggleable__control:checked~div.sk-toggleable__content {max-height: 200px;max-width: 100%;overflow: auto;}#sk-container-id-5 input.sk-toggleable__control:checked~label.sk-toggleable__label-arrow:before {content: \"▾\";}#sk-container-id-5 div.sk-estimator input.sk-toggleable__control:checked~label.sk-toggleable__label {background-color: #d4ebff;}#sk-container-id-5 div.sk-label input.sk-toggleable__control:checked~label.sk-toggleable__label {background-color: #d4ebff;}#sk-container-id-5 input.sk-hidden--visually {border: 0;clip: rect(1px 1px 1px 1px);clip: rect(1px, 1px, 1px, 1px);height: 1px;margin: -1px;overflow: hidden;padding: 0;position: absolute;width: 1px;}#sk-container-id-5 div.sk-estimator {font-family: monospace;background-color: #f0f8ff;border: 1px dotted black;border-radius: 0.25em;box-sizing: border-box;margin-bottom: 0.5em;}#sk-container-id-5 div.sk-estimator:hover {background-color: #d4ebff;}#sk-container-id-5 div.sk-parallel-item::after {content: \"\";width: 100%;border-bottom: 1px solid gray;flex-grow: 1;}#sk-container-id-5 div.sk-label:hover label.sk-toggleable__label {background-color: #d4ebff;}#sk-container-id-5 div.sk-serial::before {content: \"\";position: absolute;border-left: 1px solid gray;box-sizing: border-box;top: 0;bottom: 0;left: 50%;z-index: 0;}#sk-container-id-5 div.sk-serial {display: flex;flex-direction: column;align-items: center;background-color: white;padding-right: 0.2em;padding-left: 0.2em;position: relative;}#sk-container-id-5 div.sk-item {position: relative;z-index: 1;}#sk-container-id-5 div.sk-parallel {display: flex;align-items: stretch;justify-content: center;background-color: white;position: relative;}#sk-container-id-5 div.sk-item::before, #sk-container-id-5 div.sk-parallel-item::before {content: \"\";position: absolute;border-left: 1px solid gray;box-sizing: border-box;top: 0;bottom: 0;left: 50%;z-index: -1;}#sk-container-id-5 div.sk-parallel-item {display: flex;flex-direction: column;z-index: 1;position: relative;background-color: white;}#sk-container-id-5 div.sk-parallel-item:first-child::after {align-self: flex-end;width: 50%;}#sk-container-id-5 div.sk-parallel-item:last-child::after {align-self: flex-start;width: 50%;}#sk-container-id-5 div.sk-parallel-item:only-child::after {width: 0;}#sk-container-id-5 div.sk-dashed-wrapped {border: 1px dashed gray;margin: 0 0.4em 0.5em 0.4em;box-sizing: border-box;padding-bottom: 0.4em;background-color: white;}#sk-container-id-5 div.sk-label label {font-family: monospace;font-weight: bold;display: inline-block;line-height: 1.2em;}#sk-container-id-5 div.sk-label-container {text-align: center;}#sk-container-id-5 div.sk-container {/* jupyter's `normalize.less` sets `[hidden] { display: none; }` but bootstrap.min.css set `[hidden] { display: none !important; }` so we also need the `!important` here to be able to override the default hidden behavior on the sphinx rendered scikit-learn.org. See: https://github.com/scikit-learn/scikit-learn/issues/21755 */display: inline-block !important;position: relative;}#sk-container-id-5 div.sk-text-repr-fallback {display: none;}</style><div id=\"sk-container-id-5\" class=\"sk-top-container\"><div class=\"sk-text-repr-fallback\"><pre>RandomForestRegressor(max_leaf_nodes=220, n_estimators=220)</pre><b>In a Jupyter environment, please rerun this cell to show the HTML representation or trust the notebook. <br />On GitHub, the HTML representation is unable to render, please try loading this page with nbviewer.org.</b></div><div class=\"sk-container\" hidden><div class=\"sk-item\"><div class=\"sk-estimator sk-toggleable\"><input class=\"sk-toggleable__control sk-hidden--visually\" id=\"sk-estimator-id-5\" type=\"checkbox\" checked><label for=\"sk-estimator-id-5\" class=\"sk-toggleable__label sk-toggleable__label-arrow\">RandomForestRegressor</label><div class=\"sk-toggleable__content\"><pre>RandomForestRegressor(max_leaf_nodes=220, n_estimators=220)</pre></div></div></div></div></div>"
     },
     "execution_count": 21,
     "metadata": {},
     "output_type": "execute_result"
    },
    {
     "data": {
      "text/plain": "RandomForestRegressor(max_leaf_nodes=220, n_estimators=220)",
      "text/html": "<style>#sk-container-id-10 {color: black;background-color: white;}#sk-container-id-10 pre{padding: 0;}#sk-container-id-10 div.sk-toggleable {background-color: white;}#sk-container-id-10 label.sk-toggleable__label {cursor: pointer;display: block;width: 100%;margin-bottom: 0;padding: 0.3em;box-sizing: border-box;text-align: center;}#sk-container-id-10 label.sk-toggleable__label-arrow:before {content: \"▸\";float: left;margin-right: 0.25em;color: #696969;}#sk-container-id-10 label.sk-toggleable__label-arrow:hover:before {color: black;}#sk-container-id-10 div.sk-estimator:hover label.sk-toggleable__label-arrow:before {color: black;}#sk-container-id-10 div.sk-toggleable__content {max-height: 0;max-width: 0;overflow: hidden;text-align: left;background-color: #f0f8ff;}#sk-container-id-10 div.sk-toggleable__content pre {margin: 0.2em;color: black;border-radius: 0.25em;background-color: #f0f8ff;}#sk-container-id-10 input.sk-toggleable__control:checked~div.sk-toggleable__content {max-height: 200px;max-width: 100%;overflow: auto;}#sk-container-id-10 input.sk-toggleable__control:checked~label.sk-toggleable__label-arrow:before {content: \"▾\";}#sk-container-id-10 div.sk-estimator input.sk-toggleable__control:checked~label.sk-toggleable__label {background-color: #d4ebff;}#sk-container-id-10 div.sk-label input.sk-toggleable__control:checked~label.sk-toggleable__label {background-color: #d4ebff;}#sk-container-id-10 input.sk-hidden--visually {border: 0;clip: rect(1px 1px 1px 1px);clip: rect(1px, 1px, 1px, 1px);height: 1px;margin: -1px;overflow: hidden;padding: 0;position: absolute;width: 1px;}#sk-container-id-10 div.sk-estimator {font-family: monospace;background-color: #f0f8ff;border: 1px dotted black;border-radius: 0.25em;box-sizing: border-box;margin-bottom: 0.5em;}#sk-container-id-10 div.sk-estimator:hover {background-color: #d4ebff;}#sk-container-id-10 div.sk-parallel-item::after {content: \"\";width: 100%;border-bottom: 1px solid gray;flex-grow: 1;}#sk-container-id-10 div.sk-label:hover label.sk-toggleable__label {background-color: #d4ebff;}#sk-container-id-10 div.sk-serial::before {content: \"\";position: absolute;border-left: 1px solid gray;box-sizing: border-box;top: 0;bottom: 0;left: 50%;z-index: 0;}#sk-container-id-10 div.sk-serial {display: flex;flex-direction: column;align-items: center;background-color: white;padding-right: 0.2em;padding-left: 0.2em;position: relative;}#sk-container-id-10 div.sk-item {position: relative;z-index: 1;}#sk-container-id-10 div.sk-parallel {display: flex;align-items: stretch;justify-content: center;background-color: white;position: relative;}#sk-container-id-10 div.sk-item::before, #sk-container-id-10 div.sk-parallel-item::before {content: \"\";position: absolute;border-left: 1px solid gray;box-sizing: border-box;top: 0;bottom: 0;left: 50%;z-index: -1;}#sk-container-id-10 div.sk-parallel-item {display: flex;flex-direction: column;z-index: 1;position: relative;background-color: white;}#sk-container-id-10 div.sk-parallel-item:first-child::after {align-self: flex-end;width: 50%;}#sk-container-id-10 div.sk-parallel-item:last-child::after {align-self: flex-start;width: 50%;}#sk-container-id-10 div.sk-parallel-item:only-child::after {width: 0;}#sk-container-id-10 div.sk-dashed-wrapped {border: 1px dashed gray;margin: 0 0.4em 0.5em 0.4em;box-sizing: border-box;padding-bottom: 0.4em;background-color: white;}#sk-container-id-10 div.sk-label label {font-family: monospace;font-weight: bold;display: inline-block;line-height: 1.2em;}#sk-container-id-10 div.sk-label-container {text-align: center;}#sk-container-id-10 div.sk-container {/* jupyter's `normalize.less` sets `[hidden] { display: none; }` but bootstrap.min.css set `[hidden] { display: none !important; }` so we also need the `!important` here to be able to override the default hidden behavior on the sphinx rendered scikit-learn.org. See: https://github.com/scikit-learn/scikit-learn/issues/21755 */display: inline-block !important;position: relative;}#sk-container-id-10 div.sk-text-repr-fallback {display: none;}</style><div id=\"sk-container-id-10\" class=\"sk-top-container\"><div class=\"sk-text-repr-fallback\"><pre>RandomForestRegressor(max_leaf_nodes=220, n_estimators=220)</pre><b>In a Jupyter environment, please rerun this cell to show the HTML representation or trust the notebook. <br />On GitHub, the HTML representation is unable to render, please try loading this page with nbviewer.org.</b></div><div class=\"sk-container\" hidden><div class=\"sk-item\"><div class=\"sk-estimator sk-toggleable\"><input class=\"sk-toggleable__control sk-hidden--visually\" id=\"sk-estimator-id-10\" type=\"checkbox\" checked><label for=\"sk-estimator-id-10\" class=\"sk-toggleable__label sk-toggleable__label-arrow\">RandomForestRegressor</label><div class=\"sk-toggleable__content\"><pre>RandomForestRegressor(max_leaf_nodes=220, n_estimators=220)</pre></div></div></div></div></div>"
     },
     "execution_count": 63,
     "metadata": {},
     "output_type": "execute_result"
    }
   ],
   "source": [
    "from sklearn.ensemble import RandomForestRegressor\n",
    "ra=RandomForestRegressor(n_estimators=220,max_leaf_nodes=220)\n",
    "ra.fit(X_train,y_train)"
   ],
   "metadata": {
    "collapsed": false,
    "pycharm": {
     "name": "#%%\n"
    }
   }
  },
  {
   "cell_type": "code",
   "execution_count": 64,
   "outputs": [
    {
     "data": {
      "text/plain": "0.9935955183223764"
     },
     "execution_count": 22,
     "metadata": {},
     "output_type": "execute_result"
    },
    {
     "data": {
      "text/plain": "0.9927659925449424"
     },
     "execution_count": 64,
     "metadata": {},
     "output_type": "execute_result"
    }
   ],
   "source": [
    "ra.score(X_test,y_test)"
   ],
   "metadata": {
    "collapsed": false,
    "pycharm": {
     "name": "#%%\n"
    }
   }
  },
  {
   "cell_type": "code",
   "execution_count": 65,
   "outputs": [
    {
     "name": "stderr",
     "output_type": "stream",
     "text": [
      "C:\\Users\\parsian\\PycharmProjects\\first\\venv\\lib\\site-packages\\sklearn\\base.py:439: UserWarning: X does not have valid feature names, but RandomForestRegressor was fitted with feature names\n",
      "  warnings.warn(\n"
     ]
    },
    {
     "data": {
      "text/plain": "array([41677.03405251])"
     },
     "execution_count": 23,
     "metadata": {},
     "output_type": "execute_result"
    },
    {
     "name": "stderr",
     "output_type": "stream",
     "text": [
      "C:\\Users\\parsian\\PycharmProjects\\first\\venv\\lib\\site-packages\\sklearn\\base.py:439: UserWarning: X does not have valid feature names, but RandomForestRegressor was fitted with feature names\n",
      "  warnings.warn(\n"
     ]
    },
    {
     "data": {
      "text/plain": "array([41048.92687943])"
     },
     "execution_count": 65,
     "metadata": {},
     "output_type": "execute_result"
    }
   ],
   "source": [
    "ra.predict([[22263900160,2022,2,20]])"
   ],
   "metadata": {
    "collapsed": false,
    "pycharm": {
     "name": "#%%\n"
    }
   }
  },
  {
   "cell_type": "code",
   "execution_count": 66,
   "outputs": [
    {
     "name": "stderr",
     "output_type": "stream",
     "text": [
      "C:\\Users\\parsian\\PycharmProjects\\first\\venv\\lib\\site-packages\\sklearn\\base.py:439: UserWarning: X does not have valid feature names, but RandomForestRegressor was fitted with feature names\n",
      "  warnings.warn(\n"
     ]
    },
    {
     "data": {
      "text/plain": "array([41133.14963487])"
     },
     "execution_count": 24,
     "metadata": {},
     "output_type": "execute_result"
    },
    {
     "name": "stderr",
     "output_type": "stream",
     "text": [
      "C:\\Users\\parsian\\PycharmProjects\\first\\venv\\lib\\site-packages\\sklearn\\base.py:439: UserWarning: X does not have valid feature names, but RandomForestRegressor was fitted with feature names\n",
      "  warnings.warn(\n"
     ]
    },
    {
     "data": {
      "text/plain": "array([39396.54721436])"
     },
     "execution_count": 66,
     "metadata": {},
     "output_type": "execute_result"
    }
   ],
   "source": [
    "ra.predict([[22263900160,2022,2,21]])"
   ],
   "metadata": {
    "collapsed": false,
    "pycharm": {
     "name": "#%%\n"
    }
   }
  },
  {
   "cell_type": "code",
   "execution_count": 67,
   "outputs": [
    {
     "name": "stderr",
     "output_type": "stream",
     "text": [
      "C:\\Users\\parsian\\PycharmProjects\\first\\venv\\lib\\site-packages\\sklearn\\base.py:439: UserWarning: X does not have valid feature names, but RandomForestRegressor was fitted with feature names\n",
      "  warnings.warn(\n"
     ]
    },
    {
     "data": {
      "text/plain": "array([41324.92165042])"
     },
     "execution_count": 25,
     "metadata": {},
     "output_type": "execute_result"
    },
    {
     "name": "stderr",
     "output_type": "stream",
     "text": [
      "C:\\Users\\parsian\\PycharmProjects\\first\\venv\\lib\\site-packages\\sklearn\\base.py:439: UserWarning: X does not have valid feature names, but RandomForestRegressor was fitted with feature names\n",
      "  warnings.warn(\n"
     ]
    },
    {
     "data": {
      "text/plain": "array([39335.14738428])"
     },
     "execution_count": 67,
     "metadata": {},
     "output_type": "execute_result"
    }
   ],
   "source": [
    "ra.predict([[34263900160,2022,2,22]])"
   ],
   "metadata": {
    "collapsed": false,
    "pycharm": {
     "name": "#%%\n"
    }
   }
  },
  {
   "cell_type": "code",
   "execution_count": 68,
   "outputs": [
    {
     "name": "stderr",
     "output_type": "stream",
     "text": [
      "C:\\Users\\parsian\\PycharmProjects\\first\\venv\\lib\\site-packages\\sklearn\\base.py:439: UserWarning: X does not have valid feature names, but RandomForestRegressor was fitted with feature names\n",
      "  warnings.warn(\n"
     ]
    },
    {
     "data": {
      "text/plain": "array([39806.9866911])"
     },
     "execution_count": 26,
     "metadata": {},
     "output_type": "execute_result"
    },
    {
     "name": "stderr",
     "output_type": "stream",
     "text": [
      "C:\\Users\\parsian\\PycharmProjects\\first\\venv\\lib\\site-packages\\sklearn\\base.py:439: UserWarning: X does not have valid feature names, but RandomForestRegressor was fitted with feature names\n",
      "  warnings.warn(\n"
     ]
    },
    {
     "data": {
      "text/plain": "array([38344.74180528])"
     },
     "execution_count": 68,
     "metadata": {},
     "output_type": "execute_result"
    }
   ],
   "source": [
    "ra.predict([[22263900160,2022,2,23]])"
   ],
   "metadata": {
    "collapsed": false,
    "pycharm": {
     "name": "#%%\n"
    }
   }
  },
  {
   "cell_type": "code",
   "execution_count": 69,
   "outputs": [
    {
     "name": "stderr",
     "output_type": "stream",
     "text": [
      "C:\\Users\\parsian\\PycharmProjects\\first\\venv\\lib\\site-packages\\sklearn\\base.py:439: UserWarning: X does not have valid feature names, but RandomForestRegressor was fitted with feature names\n",
      "  warnings.warn(\n"
     ]
    },
    {
     "data": {
      "text/plain": "array([39440.90366421])"
     },
     "execution_count": 27,
     "metadata": {},
     "output_type": "execute_result"
    },
    {
     "name": "stderr",
     "output_type": "stream",
     "text": [
      "C:\\Users\\parsian\\PycharmProjects\\first\\venv\\lib\\site-packages\\sklearn\\base.py:439: UserWarning: X does not have valid feature names, but RandomForestRegressor was fitted with feature names\n",
      "  warnings.warn(\n"
     ]
    },
    {
     "data": {
      "text/plain": "array([38113.55173799])"
     },
     "execution_count": 69,
     "metadata": {},
     "output_type": "execute_result"
    }
   ],
   "source": [
    "ra.predict([[22263900160,2022,2,24]])"
   ],
   "metadata": {
    "collapsed": false,
    "pycharm": {
     "name": "#%%\n"
    }
   }
  },
  {
   "cell_type": "code",
   "execution_count": 70,
   "outputs": [
    {
     "name": "stderr",
     "output_type": "stream",
     "text": [
      "C:\\Users\\parsian\\PycharmProjects\\first\\venv\\lib\\site-packages\\sklearn\\base.py:439: UserWarning: X does not have valid feature names, but RandomForestRegressor was fitted with feature names\n",
      "  warnings.warn(\n"
     ]
    },
    {
     "data": {
      "text/plain": "array([39325.65197312])"
     },
     "execution_count": 28,
     "metadata": {},
     "output_type": "execute_result"
    },
    {
     "name": "stderr",
     "output_type": "stream",
     "text": [
      "C:\\Users\\parsian\\PycharmProjects\\first\\venv\\lib\\site-packages\\sklearn\\base.py:439: UserWarning: X does not have valid feature names, but RandomForestRegressor was fitted with feature names\n",
      "  warnings.warn(\n"
     ]
    },
    {
     "data": {
      "text/plain": "array([38132.19354746])"
     },
     "execution_count": 70,
     "metadata": {},
     "output_type": "execute_result"
    }
   ],
   "source": [
    "ra.predict([[22263900160,2022,2,25]])"
   ],
   "metadata": {
    "collapsed": false,
    "pycharm": {
     "name": "#%%\n"
    }
   }
  },
  {
   "cell_type": "code",
   "execution_count": 71,
   "outputs": [
    {
     "name": "stderr",
     "output_type": "stream",
     "text": [
      "C:\\Users\\parsian\\PycharmProjects\\first\\venv\\lib\\site-packages\\sklearn\\base.py:439: UserWarning: X does not have valid feature names, but RandomForestRegressor was fitted with feature names\n",
      "  warnings.warn(\n"
     ]
    },
    {
     "data": {
      "text/plain": "array([39318.1185658])"
     },
     "execution_count": 29,
     "metadata": {},
     "output_type": "execute_result"
    },
    {
     "name": "stderr",
     "output_type": "stream",
     "text": [
      "C:\\Users\\parsian\\PycharmProjects\\first\\venv\\lib\\site-packages\\sklearn\\base.py:439: UserWarning: X does not have valid feature names, but RandomForestRegressor was fitted with feature names\n",
      "  warnings.warn(\n"
     ]
    },
    {
     "data": {
      "text/plain": "array([38142.27296863])"
     },
     "execution_count": 71,
     "metadata": {},
     "output_type": "execute_result"
    }
   ],
   "source": [
    "ra.predict([[22263900160,2022,2,26]])"
   ],
   "metadata": {
    "collapsed": false,
    "pycharm": {
     "name": "#%%\n"
    }
   }
  },
  {
   "cell_type": "code",
   "execution_count": 72,
   "outputs": [
    {
     "name": "stderr",
     "output_type": "stream",
     "text": [
      "C:\\Users\\parsian\\PycharmProjects\\first\\venv\\lib\\site-packages\\sklearn\\base.py:439: UserWarning: X does not have valid feature names, but RandomForestRegressor was fitted with feature names\n",
      "  warnings.warn(\n"
     ]
    },
    {
     "data": {
      "text/plain": "array([39382.78348607])"
     },
     "execution_count": 30,
     "metadata": {},
     "output_type": "execute_result"
    },
    {
     "name": "stderr",
     "output_type": "stream",
     "text": [
      "C:\\Users\\parsian\\PycharmProjects\\first\\venv\\lib\\site-packages\\sklearn\\base.py:439: UserWarning: X does not have valid feature names, but RandomForestRegressor was fitted with feature names\n",
      "  warnings.warn(\n"
     ]
    },
    {
     "data": {
      "text/plain": "array([38211.90623114])"
     },
     "execution_count": 72,
     "metadata": {},
     "output_type": "execute_result"
    }
   ],
   "source": [
    "ra.predict([[22263900160,2022,2,27]])"
   ],
   "metadata": {
    "collapsed": false,
    "pycharm": {
     "name": "#%%\n"
    }
   }
  },
  {
   "cell_type": "code",
   "execution_count": 73,
   "outputs": [
    {
     "name": "stderr",
     "output_type": "stream",
     "text": [
      "C:\\Users\\parsian\\PycharmProjects\\first\\venv\\lib\\site-packages\\sklearn\\base.py:439: UserWarning: X does not have valid feature names, but RandomForestRegressor was fitted with feature names\n",
      "  warnings.warn(\n"
     ]
    },
    {
     "data": {
      "text/plain": "array([39424.33363671])"
     },
     "execution_count": 31,
     "metadata": {},
     "output_type": "execute_result"
    },
    {
     "name": "stderr",
     "output_type": "stream",
     "text": [
      "C:\\Users\\parsian\\PycharmProjects\\first\\venv\\lib\\site-packages\\sklearn\\base.py:439: UserWarning: X does not have valid feature names, but RandomForestRegressor was fitted with feature names\n",
      "  warnings.warn(\n"
     ]
    },
    {
     "data": {
      "text/plain": "array([38375.48547142])"
     },
     "execution_count": 73,
     "metadata": {},
     "output_type": "execute_result"
    }
   ],
   "source": [
    "ra.predict([[22263900160,2022,2,28]])"
   ],
   "metadata": {
    "collapsed": false,
    "pycharm": {
     "name": "#%%\n"
    }
   }
  },
  {
   "cell_type": "code",
   "execution_count": 74,
   "outputs": [
    {
     "name": "stderr",
     "output_type": "stream",
     "text": [
      "C:\\Users\\parsian\\PycharmProjects\\first\\venv\\lib\\site-packages\\sklearn\\base.py:439: UserWarning: X does not have valid feature names, but RandomForestRegressor was fitted with feature names\n",
      "  warnings.warn(\n"
     ]
    },
    {
     "data": {
      "text/plain": "array([39251.62791988])"
     },
     "execution_count": 32,
     "metadata": {},
     "output_type": "execute_result"
    },
    {
     "name": "stderr",
     "output_type": "stream",
     "text": [
      "C:\\Users\\parsian\\PycharmProjects\\first\\venv\\lib\\site-packages\\sklearn\\base.py:439: UserWarning: X does not have valid feature names, but RandomForestRegressor was fitted with feature names\n",
      "  warnings.warn(\n"
     ]
    },
    {
     "data": {
      "text/plain": "array([38239.46059764])"
     },
     "execution_count": 74,
     "metadata": {},
     "output_type": "execute_result"
    }
   ],
   "source": [
    "ra.predict([[22263900160,2022,2,29]])"
   ],
   "metadata": {
    "collapsed": false,
    "pycharm": {
     "name": "#%%\n"
    }
   }
  },
  {
   "cell_type": "code",
   "execution_count": 75,
   "outputs": [
    {
     "name": "stderr",
     "output_type": "stream",
     "text": [
      "C:\\Users\\parsian\\PycharmProjects\\first\\venv\\lib\\site-packages\\sklearn\\base.py:439: UserWarning: X does not have valid feature names, but RandomForestRegressor was fitted with feature names\n",
      "  warnings.warn(\n"
     ]
    },
    {
     "data": {
      "text/plain": "array([39239.09049048])"
     },
     "execution_count": 33,
     "metadata": {},
     "output_type": "execute_result"
    },
    {
     "name": "stderr",
     "output_type": "stream",
     "text": [
      "C:\\Users\\parsian\\PycharmProjects\\first\\venv\\lib\\site-packages\\sklearn\\base.py:439: UserWarning: X does not have valid feature names, but RandomForestRegressor was fitted with feature names\n",
      "  warnings.warn(\n"
     ]
    },
    {
     "data": {
      "text/plain": "array([38236.57432278])"
     },
     "execution_count": 75,
     "metadata": {},
     "output_type": "execute_result"
    }
   ],
   "source": [
    "ra.predict([[22263900160,2022,2,30]])"
   ],
   "metadata": {
    "collapsed": false,
    "pycharm": {
     "name": "#%%\n"
    }
   }
  },
  {
   "cell_type": "code",
   "execution_count": 76,
   "outputs": [
    {
     "name": "stderr",
     "output_type": "stream",
     "text": [
      "C:\\Users\\parsian\\PycharmProjects\\first\\venv\\lib\\site-packages\\sklearn\\base.py:439: UserWarning: X does not have valid feature names, but RandomForestRegressor was fitted with feature names\n",
      "  warnings.warn(\n"
     ]
    },
    {
     "data": {
      "text/plain": "array([44980.56144001])"
     },
     "execution_count": 34,
     "metadata": {},
     "output_type": "execute_result"
    },
    {
     "name": "stderr",
     "output_type": "stream",
     "text": [
      "C:\\Users\\parsian\\PycharmProjects\\first\\venv\\lib\\site-packages\\sklearn\\base.py:439: UserWarning: X does not have valid feature names, but RandomForestRegressor was fitted with feature names\n",
      "  warnings.warn(\n"
     ]
    },
    {
     "data": {
      "text/plain": "array([44672.33495396])"
     },
     "execution_count": 76,
     "metadata": {},
     "output_type": "execute_result"
    }
   ],
   "source": [
    "ra.predict([[22263900160,2022,3,1]])"
   ],
   "metadata": {
    "collapsed": false,
    "pycharm": {
     "name": "#%%\n"
    }
   }
  },
  {
   "cell_type": "code",
   "execution_count": 77,
   "outputs": [
    {
     "name": "stderr",
     "output_type": "stream",
     "text": [
      "C:\\Users\\parsian\\PycharmProjects\\first\\venv\\lib\\site-packages\\sklearn\\base.py:439: UserWarning: X does not have valid feature names, but RandomForestRegressor was fitted with feature names\n",
      "  warnings.warn(\n"
     ]
    },
    {
     "data": {
      "text/plain": "array([44591.14335287])"
     },
     "execution_count": 35,
     "metadata": {},
     "output_type": "execute_result"
    },
    {
     "name": "stderr",
     "output_type": "stream",
     "text": [
      "C:\\Users\\parsian\\PycharmProjects\\first\\venv\\lib\\site-packages\\sklearn\\base.py:439: UserWarning: X does not have valid feature names, but RandomForestRegressor was fitted with feature names\n",
      "  warnings.warn(\n"
     ]
    },
    {
     "data": {
      "text/plain": "array([43497.74334945])"
     },
     "execution_count": 77,
     "metadata": {},
     "output_type": "execute_result"
    }
   ],
   "source": [
    "ra.predict([[22263900160,2022,3,2]])"
   ],
   "metadata": {
    "collapsed": false,
    "pycharm": {
     "name": "#%%\n"
    }
   }
  },
  {
   "cell_type": "code",
   "execution_count": 78,
   "outputs": [
    {
     "name": "stderr",
     "output_type": "stream",
     "text": [
      "C:\\Users\\parsian\\PycharmProjects\\first\\venv\\lib\\site-packages\\sklearn\\base.py:439: UserWarning: X does not have valid feature names, but RandomForestRegressor was fitted with feature names\n",
      "  warnings.warn(\n"
     ]
    },
    {
     "data": {
      "text/plain": "array([44337.90239734])"
     },
     "execution_count": 36,
     "metadata": {},
     "output_type": "execute_result"
    },
    {
     "name": "stderr",
     "output_type": "stream",
     "text": [
      "C:\\Users\\parsian\\PycharmProjects\\first\\venv\\lib\\site-packages\\sklearn\\base.py:439: UserWarning: X does not have valid feature names, but RandomForestRegressor was fitted with feature names\n",
      "  warnings.warn(\n"
     ]
    },
    {
     "data": {
      "text/plain": "array([42352.22150919])"
     },
     "execution_count": 78,
     "metadata": {},
     "output_type": "execute_result"
    }
   ],
   "source": [
    "ra.predict([[22263900160,2022,3,3]])"
   ],
   "metadata": {
    "collapsed": false,
    "pycharm": {
     "name": "#%%\n"
    }
   }
  },
  {
   "cell_type": "code",
   "execution_count": 79,
   "outputs": [
    {
     "data": {
      "text/plain": "             Price       Volume  year  month  day\n0       457.334015     21056800  2014      9   17\n1       424.440002     34483200  2014      9   18\n2       394.795990     37919700  2014      9   19\n3       408.903992     36863600  2014      9   20\n4       398.821014     26580100  2014      9   21\n...            ...          ...   ...    ...  ...\n2708  44575.203125  22721659051  2022      2   15\n2709  43961.859375  19792547657  2022      2   16\n2710  40538.011719  26246662813  2022      2   17\n2711  40030.976563  23310007704  2022      2   18\n2712  40126.429688  22263900160  2022      2   19\n\n[2713 rows x 5 columns]",
      "text/html": "<div>\n<style scoped>\n    .dataframe tbody tr th:only-of-type {\n        vertical-align: middle;\n    }\n\n    .dataframe tbody tr th {\n        vertical-align: top;\n    }\n\n    .dataframe thead th {\n        text-align: right;\n    }\n</style>\n<table border=\"1\" class=\"dataframe\">\n  <thead>\n    <tr style=\"text-align: right;\">\n      <th></th>\n      <th>Price</th>\n      <th>Volume</th>\n      <th>year</th>\n      <th>month</th>\n      <th>day</th>\n    </tr>\n  </thead>\n  <tbody>\n    <tr>\n      <th>0</th>\n      <td>457.334015</td>\n      <td>21056800</td>\n      <td>2014</td>\n      <td>9</td>\n      <td>17</td>\n    </tr>\n    <tr>\n      <th>1</th>\n      <td>424.440002</td>\n      <td>34483200</td>\n      <td>2014</td>\n      <td>9</td>\n      <td>18</td>\n    </tr>\n    <tr>\n      <th>2</th>\n      <td>394.795990</td>\n      <td>37919700</td>\n      <td>2014</td>\n      <td>9</td>\n      <td>19</td>\n    </tr>\n    <tr>\n      <th>3</th>\n      <td>408.903992</td>\n      <td>36863600</td>\n      <td>2014</td>\n      <td>9</td>\n      <td>20</td>\n    </tr>\n    <tr>\n      <th>4</th>\n      <td>398.821014</td>\n      <td>26580100</td>\n      <td>2014</td>\n      <td>9</td>\n      <td>21</td>\n    </tr>\n    <tr>\n      <th>...</th>\n      <td>...</td>\n      <td>...</td>\n      <td>...</td>\n      <td>...</td>\n      <td>...</td>\n    </tr>\n    <tr>\n      <th>2708</th>\n      <td>44575.203125</td>\n      <td>22721659051</td>\n      <td>2022</td>\n      <td>2</td>\n      <td>15</td>\n    </tr>\n    <tr>\n      <th>2709</th>\n      <td>43961.859375</td>\n      <td>19792547657</td>\n      <td>2022</td>\n      <td>2</td>\n      <td>16</td>\n    </tr>\n    <tr>\n      <th>2710</th>\n      <td>40538.011719</td>\n      <td>26246662813</td>\n      <td>2022</td>\n      <td>2</td>\n      <td>17</td>\n    </tr>\n    <tr>\n      <th>2711</th>\n      <td>40030.976563</td>\n      <td>23310007704</td>\n      <td>2022</td>\n      <td>2</td>\n      <td>18</td>\n    </tr>\n    <tr>\n      <th>2712</th>\n      <td>40126.429688</td>\n      <td>22263900160</td>\n      <td>2022</td>\n      <td>2</td>\n      <td>19</td>\n    </tr>\n  </tbody>\n</table>\n<p>2713 rows × 5 columns</p>\n</div>"
     },
     "execution_count": 37,
     "metadata": {},
     "output_type": "execute_result"
    },
    {
     "data": {
      "text/plain": "             Price       Volume  year  month  day\n0       457.334015     21056800  2014      9   17\n1       424.440002     34483200  2014      9   18\n2       394.795990     37919700  2014      9   19\n3       408.903992     36863600  2014      9   20\n4       398.821014     26580100  2014      9   21\n...            ...          ...   ...    ...  ...\n2708  44575.203125  22721659051  2022      2   15\n2709  43961.859375  19792547657  2022      2   16\n2710  40538.011719  26246662813  2022      2   17\n2711  40030.976563  23310007704  2022      2   18\n2712  40126.429688  22263900160  2022      2   19\n\n[2713 rows x 5 columns]",
      "text/html": "<div>\n<style scoped>\n    .dataframe tbody tr th:only-of-type {\n        vertical-align: middle;\n    }\n\n    .dataframe tbody tr th {\n        vertical-align: top;\n    }\n\n    .dataframe thead th {\n        text-align: right;\n    }\n</style>\n<table border=\"1\" class=\"dataframe\">\n  <thead>\n    <tr style=\"text-align: right;\">\n      <th></th>\n      <th>Price</th>\n      <th>Volume</th>\n      <th>year</th>\n      <th>month</th>\n      <th>day</th>\n    </tr>\n  </thead>\n  <tbody>\n    <tr>\n      <th>0</th>\n      <td>457.334015</td>\n      <td>21056800</td>\n      <td>2014</td>\n      <td>9</td>\n      <td>17</td>\n    </tr>\n    <tr>\n      <th>1</th>\n      <td>424.440002</td>\n      <td>34483200</td>\n      <td>2014</td>\n      <td>9</td>\n      <td>18</td>\n    </tr>\n    <tr>\n      <th>2</th>\n      <td>394.795990</td>\n      <td>37919700</td>\n      <td>2014</td>\n      <td>9</td>\n      <td>19</td>\n    </tr>\n    <tr>\n      <th>3</th>\n      <td>408.903992</td>\n      <td>36863600</td>\n      <td>2014</td>\n      <td>9</td>\n      <td>20</td>\n    </tr>\n    <tr>\n      <th>4</th>\n      <td>398.821014</td>\n      <td>26580100</td>\n      <td>2014</td>\n      <td>9</td>\n      <td>21</td>\n    </tr>\n    <tr>\n      <th>...</th>\n      <td>...</td>\n      <td>...</td>\n      <td>...</td>\n      <td>...</td>\n      <td>...</td>\n    </tr>\n    <tr>\n      <th>2708</th>\n      <td>44575.203125</td>\n      <td>22721659051</td>\n      <td>2022</td>\n      <td>2</td>\n      <td>15</td>\n    </tr>\n    <tr>\n      <th>2709</th>\n      <td>43961.859375</td>\n      <td>19792547657</td>\n      <td>2022</td>\n      <td>2</td>\n      <td>16</td>\n    </tr>\n    <tr>\n      <th>2710</th>\n      <td>40538.011719</td>\n      <td>26246662813</td>\n      <td>2022</td>\n      <td>2</td>\n      <td>17</td>\n    </tr>\n    <tr>\n      <th>2711</th>\n      <td>40030.976563</td>\n      <td>23310007704</td>\n      <td>2022</td>\n      <td>2</td>\n      <td>18</td>\n    </tr>\n    <tr>\n      <th>2712</th>\n      <td>40126.429688</td>\n      <td>22263900160</td>\n      <td>2022</td>\n      <td>2</td>\n      <td>19</td>\n    </tr>\n  </tbody>\n</table>\n<p>2713 rows × 5 columns</p>\n</div>"
     },
     "execution_count": 79,
     "metadata": {},
     "output_type": "execute_result"
    }
   ],
   "source": [
    "df"
   ],
   "metadata": {
    "collapsed": false,
    "pycharm": {
     "name": "#%%\n"
    }
   }
  },
  {
   "cell_type": "code",
   "execution_count": 80,
   "outputs": [
    {
     "data": {
      "text/plain": "    Price       Volume  year  month  day\n0   40816  22263900160  2022      2   20\n1   40105  22263900160  2022      2   21\n2   38406  22263900160  2022      2   22\n3   37880  22263900160  2022      2   23\n4   38007  22263900160  2022      2   24\n5   38008  22263900160  2022      2   25\n6   37978  22263900160  2022      2   26\n7   38150  22263900160  2022      2   27\n8   38329  22263900160  2022      2   28\n9   38394  22263900160  2022      2   29\n10  38386  22263900160  2022      2   30\n11  42455  22263900160  2022      3    1\n12  42322  22263900160  2022      3    2\n13  41815  22263900160  2022      3    3",
      "text/html": "<div>\n<style scoped>\n    .dataframe tbody tr th:only-of-type {\n        vertical-align: middle;\n    }\n\n    .dataframe tbody tr th {\n        vertical-align: top;\n    }\n\n    .dataframe thead th {\n        text-align: right;\n    }\n</style>\n<table border=\"1\" class=\"dataframe\">\n  <thead>\n    <tr style=\"text-align: right;\">\n      <th></th>\n      <th>Price</th>\n      <th>Volume</th>\n      <th>year</th>\n      <th>month</th>\n      <th>day</th>\n    </tr>\n  </thead>\n  <tbody>\n    <tr>\n      <th>0</th>\n      <td>40816</td>\n      <td>22263900160</td>\n      <td>2022</td>\n      <td>2</td>\n      <td>20</td>\n    </tr>\n    <tr>\n      <th>1</th>\n      <td>40105</td>\n      <td>22263900160</td>\n      <td>2022</td>\n      <td>2</td>\n      <td>21</td>\n    </tr>\n    <tr>\n      <th>2</th>\n      <td>38406</td>\n      <td>22263900160</td>\n      <td>2022</td>\n      <td>2</td>\n      <td>22</td>\n    </tr>\n    <tr>\n      <th>3</th>\n      <td>37880</td>\n      <td>22263900160</td>\n      <td>2022</td>\n      <td>2</td>\n      <td>23</td>\n    </tr>\n    <tr>\n      <th>4</th>\n      <td>38007</td>\n      <td>22263900160</td>\n      <td>2022</td>\n      <td>2</td>\n      <td>24</td>\n    </tr>\n    <tr>\n      <th>5</th>\n      <td>38008</td>\n      <td>22263900160</td>\n      <td>2022</td>\n      <td>2</td>\n      <td>25</td>\n    </tr>\n    <tr>\n      <th>6</th>\n      <td>37978</td>\n      <td>22263900160</td>\n      <td>2022</td>\n      <td>2</td>\n      <td>26</td>\n    </tr>\n    <tr>\n      <th>7</th>\n      <td>38150</td>\n      <td>22263900160</td>\n      <td>2022</td>\n      <td>2</td>\n      <td>27</td>\n    </tr>\n    <tr>\n      <th>8</th>\n      <td>38329</td>\n      <td>22263900160</td>\n      <td>2022</td>\n      <td>2</td>\n      <td>28</td>\n    </tr>\n    <tr>\n      <th>9</th>\n      <td>38394</td>\n      <td>22263900160</td>\n      <td>2022</td>\n      <td>2</td>\n      <td>29</td>\n    </tr>\n    <tr>\n      <th>10</th>\n      <td>38386</td>\n      <td>22263900160</td>\n      <td>2022</td>\n      <td>2</td>\n      <td>30</td>\n    </tr>\n    <tr>\n      <th>11</th>\n      <td>42455</td>\n      <td>22263900160</td>\n      <td>2022</td>\n      <td>3</td>\n      <td>1</td>\n    </tr>\n    <tr>\n      <th>12</th>\n      <td>42322</td>\n      <td>22263900160</td>\n      <td>2022</td>\n      <td>3</td>\n      <td>2</td>\n    </tr>\n    <tr>\n      <th>13</th>\n      <td>41815</td>\n      <td>22263900160</td>\n      <td>2022</td>\n      <td>3</td>\n      <td>3</td>\n    </tr>\n  </tbody>\n</table>\n</div>"
     },
     "execution_count": 38,
     "metadata": {},
     "output_type": "execute_result"
    },
    {
     "data": {
      "text/plain": "    Price       Volume  year  month  day\n0   40816  22263900160  2022      2   20\n1   40105  22263900160  2022      2   21\n2   38406  22263900160  2022      2   22\n3   37880  22263900160  2022      2   23\n4   38007  22263900160  2022      2   24\n5   38008  22263900160  2022      2   25\n6   37978  22263900160  2022      2   26\n7   38150  22263900160  2022      2   27\n8   38329  22263900160  2022      2   28\n9   38394  22263900160  2022      2   29\n10  38386  22263900160  2022      2   30\n11  42455  22263900160  2022      3    1\n12  42322  22263900160  2022      3    2\n13  41815  22263900160  2022      3    3",
      "text/html": "<div>\n<style scoped>\n    .dataframe tbody tr th:only-of-type {\n        vertical-align: middle;\n    }\n\n    .dataframe tbody tr th {\n        vertical-align: top;\n    }\n\n    .dataframe thead th {\n        text-align: right;\n    }\n</style>\n<table border=\"1\" class=\"dataframe\">\n  <thead>\n    <tr style=\"text-align: right;\">\n      <th></th>\n      <th>Price</th>\n      <th>Volume</th>\n      <th>year</th>\n      <th>month</th>\n      <th>day</th>\n    </tr>\n  </thead>\n  <tbody>\n    <tr>\n      <th>0</th>\n      <td>40816</td>\n      <td>22263900160</td>\n      <td>2022</td>\n      <td>2</td>\n      <td>20</td>\n    </tr>\n    <tr>\n      <th>1</th>\n      <td>40105</td>\n      <td>22263900160</td>\n      <td>2022</td>\n      <td>2</td>\n      <td>21</td>\n    </tr>\n    <tr>\n      <th>2</th>\n      <td>38406</td>\n      <td>22263900160</td>\n      <td>2022</td>\n      <td>2</td>\n      <td>22</td>\n    </tr>\n    <tr>\n      <th>3</th>\n      <td>37880</td>\n      <td>22263900160</td>\n      <td>2022</td>\n      <td>2</td>\n      <td>23</td>\n    </tr>\n    <tr>\n      <th>4</th>\n      <td>38007</td>\n      <td>22263900160</td>\n      <td>2022</td>\n      <td>2</td>\n      <td>24</td>\n    </tr>\n    <tr>\n      <th>5</th>\n      <td>38008</td>\n      <td>22263900160</td>\n      <td>2022</td>\n      <td>2</td>\n      <td>25</td>\n    </tr>\n    <tr>\n      <th>6</th>\n      <td>37978</td>\n      <td>22263900160</td>\n      <td>2022</td>\n      <td>2</td>\n      <td>26</td>\n    </tr>\n    <tr>\n      <th>7</th>\n      <td>38150</td>\n      <td>22263900160</td>\n      <td>2022</td>\n      <td>2</td>\n      <td>27</td>\n    </tr>\n    <tr>\n      <th>8</th>\n      <td>38329</td>\n      <td>22263900160</td>\n      <td>2022</td>\n      <td>2</td>\n      <td>28</td>\n    </tr>\n    <tr>\n      <th>9</th>\n      <td>38394</td>\n      <td>22263900160</td>\n      <td>2022</td>\n      <td>2</td>\n      <td>29</td>\n    </tr>\n    <tr>\n      <th>10</th>\n      <td>38386</td>\n      <td>22263900160</td>\n      <td>2022</td>\n      <td>2</td>\n      <td>30</td>\n    </tr>\n    <tr>\n      <th>11</th>\n      <td>42455</td>\n      <td>22263900160</td>\n      <td>2022</td>\n      <td>3</td>\n      <td>1</td>\n    </tr>\n    <tr>\n      <th>12</th>\n      <td>42322</td>\n      <td>22263900160</td>\n      <td>2022</td>\n      <td>3</td>\n      <td>2</td>\n    </tr>\n    <tr>\n      <th>13</th>\n      <td>41815</td>\n      <td>22263900160</td>\n      <td>2022</td>\n      <td>3</td>\n      <td>3</td>\n    </tr>\n  </tbody>\n</table>\n</div>"
     },
     "execution_count": 80,
     "metadata": {},
     "output_type": "execute_result"
    }
   ],
   "source": [
    "\n",
    "\n",
    "new_data={'Price':[40816,40105,38406,37880,38007,38008,37978,38150,38329,38394,38386,42455,42322,41815],\n",
    "          'Volume':[22263900160,22263900160,22263900160,22263900160,22263900160,22263900160,22263900160,22263900160,22263900160,22263900160,22263900160,22263900160,22263900160,22263900160],\n",
    "          'year':[2022,2022,2022,2022,2022,2022,2022,2022,2022,2022,2022,2022,2022,2022],\n",
    "          'month':[2,2,2,2,2,2,2,2,2,2,2,3,3,3],\n",
    "          'day':[20,21,22,23,24,25,26,27,28,29,30,1,2,3]\n",
    "}\n",
    "new_data=pd.DataFrame.from_dict(new_data)\n",
    "new_data\n"
   ],
   "metadata": {
    "collapsed": false,
    "pycharm": {
     "name": "#%%\n"
    }
   }
  },
  {
   "cell_type": "code",
   "execution_count": 81,
   "outputs": [
    {
     "name": "stdout",
     "output_type": "stream",
     "text": [
      "39360.78571428572\n",
      "39360.78571428572\n"
     ]
    }
   ],
   "source": [
    "\n",
    "\n",
    "print(np.mean(new_data.Price))"
   ],
   "metadata": {
    "collapsed": false,
    "pycharm": {
     "name": "#%%\n"
    }
   }
  },
  {
   "cell_type": "code",
   "execution_count": 82,
   "outputs": [
    {
     "name": "stdout",
     "output_type": "stream",
     "text": [
      "38668.75\n",
      "38668.75\n"
     ]
    }
   ],
   "source": [
    "print(np.mean(new_data.Price[0:8]))"
   ],
   "metadata": {
    "collapsed": false,
    "pycharm": {
     "name": "#%%\n"
    }
   }
  },
  {
   "cell_type": "code",
   "execution_count": 83,
   "outputs": [
    {
     "name": "stdout",
     "output_type": "stream",
     "text": [
      "40283.5\n",
      "40283.5\n"
     ]
    }
   ],
   "source": [
    "print(np.mean(new_data.Price[8:15]))"
   ],
   "metadata": {
    "collapsed": false,
    "pycharm": {
     "name": "#%%\n"
    }
   }
  },
  {
   "cell_type": "code",
   "execution_count": 84,
   "outputs": [
    {
     "data": {
      "text/plain": "           Price       Volume  year  month  day\n0     457.334015     21056800  2014      9   17\n1     424.440002     34483200  2014      9   18\n2     394.795990     37919700  2014      9   19\n3     408.903992     36863600  2014      9   20\n4     398.821014     26580100  2014      9   21\n..           ...          ...   ...    ...  ...\n9   38394.000000  22263900160  2022      2   29\n10  38386.000000  22263900160  2022      2   30\n11  42455.000000  22263900160  2022      3    1\n12  42322.000000  22263900160  2022      3    2\n13  41815.000000  22263900160  2022      3    3\n\n[2727 rows x 5 columns]",
      "text/html": "<div>\n<style scoped>\n    .dataframe tbody tr th:only-of-type {\n        vertical-align: middle;\n    }\n\n    .dataframe tbody tr th {\n        vertical-align: top;\n    }\n\n    .dataframe thead th {\n        text-align: right;\n    }\n</style>\n<table border=\"1\" class=\"dataframe\">\n  <thead>\n    <tr style=\"text-align: right;\">\n      <th></th>\n      <th>Price</th>\n      <th>Volume</th>\n      <th>year</th>\n      <th>month</th>\n      <th>day</th>\n    </tr>\n  </thead>\n  <tbody>\n    <tr>\n      <th>0</th>\n      <td>457.334015</td>\n      <td>21056800</td>\n      <td>2014</td>\n      <td>9</td>\n      <td>17</td>\n    </tr>\n    <tr>\n      <th>1</th>\n      <td>424.440002</td>\n      <td>34483200</td>\n      <td>2014</td>\n      <td>9</td>\n      <td>18</td>\n    </tr>\n    <tr>\n      <th>2</th>\n      <td>394.795990</td>\n      <td>37919700</td>\n      <td>2014</td>\n      <td>9</td>\n      <td>19</td>\n    </tr>\n    <tr>\n      <th>3</th>\n      <td>408.903992</td>\n      <td>36863600</td>\n      <td>2014</td>\n      <td>9</td>\n      <td>20</td>\n    </tr>\n    <tr>\n      <th>4</th>\n      <td>398.821014</td>\n      <td>26580100</td>\n      <td>2014</td>\n      <td>9</td>\n      <td>21</td>\n    </tr>\n    <tr>\n      <th>...</th>\n      <td>...</td>\n      <td>...</td>\n      <td>...</td>\n      <td>...</td>\n      <td>...</td>\n    </tr>\n    <tr>\n      <th>9</th>\n      <td>38394.000000</td>\n      <td>22263900160</td>\n      <td>2022</td>\n      <td>2</td>\n      <td>29</td>\n    </tr>\n    <tr>\n      <th>10</th>\n      <td>38386.000000</td>\n      <td>22263900160</td>\n      <td>2022</td>\n      <td>2</td>\n      <td>30</td>\n    </tr>\n    <tr>\n      <th>11</th>\n      <td>42455.000000</td>\n      <td>22263900160</td>\n      <td>2022</td>\n      <td>3</td>\n      <td>1</td>\n    </tr>\n    <tr>\n      <th>12</th>\n      <td>42322.000000</td>\n      <td>22263900160</td>\n      <td>2022</td>\n      <td>3</td>\n      <td>2</td>\n    </tr>\n    <tr>\n      <th>13</th>\n      <td>41815.000000</td>\n      <td>22263900160</td>\n      <td>2022</td>\n      <td>3</td>\n      <td>3</td>\n    </tr>\n  </tbody>\n</table>\n<p>2727 rows × 5 columns</p>\n</div>"
     },
     "execution_count": 42,
     "metadata": {},
     "output_type": "execute_result"
    },
    {
     "data": {
      "text/plain": "           Price       Volume  year  month  day\n0     457.334015     21056800  2014      9   17\n1     424.440002     34483200  2014      9   18\n2     394.795990     37919700  2014      9   19\n3     408.903992     36863600  2014      9   20\n4     398.821014     26580100  2014      9   21\n..           ...          ...   ...    ...  ...\n9   38394.000000  22263900160  2022      2   29\n10  38386.000000  22263900160  2022      2   30\n11  42455.000000  22263900160  2022      3    1\n12  42322.000000  22263900160  2022      3    2\n13  41815.000000  22263900160  2022      3    3\n\n[2727 rows x 5 columns]",
      "text/html": "<div>\n<style scoped>\n    .dataframe tbody tr th:only-of-type {\n        vertical-align: middle;\n    }\n\n    .dataframe tbody tr th {\n        vertical-align: top;\n    }\n\n    .dataframe thead th {\n        text-align: right;\n    }\n</style>\n<table border=\"1\" class=\"dataframe\">\n  <thead>\n    <tr style=\"text-align: right;\">\n      <th></th>\n      <th>Price</th>\n      <th>Volume</th>\n      <th>year</th>\n      <th>month</th>\n      <th>day</th>\n    </tr>\n  </thead>\n  <tbody>\n    <tr>\n      <th>0</th>\n      <td>457.334015</td>\n      <td>21056800</td>\n      <td>2014</td>\n      <td>9</td>\n      <td>17</td>\n    </tr>\n    <tr>\n      <th>1</th>\n      <td>424.440002</td>\n      <td>34483200</td>\n      <td>2014</td>\n      <td>9</td>\n      <td>18</td>\n    </tr>\n    <tr>\n      <th>2</th>\n      <td>394.795990</td>\n      <td>37919700</td>\n      <td>2014</td>\n      <td>9</td>\n      <td>19</td>\n    </tr>\n    <tr>\n      <th>3</th>\n      <td>408.903992</td>\n      <td>36863600</td>\n      <td>2014</td>\n      <td>9</td>\n      <td>20</td>\n    </tr>\n    <tr>\n      <th>4</th>\n      <td>398.821014</td>\n      <td>26580100</td>\n      <td>2014</td>\n      <td>9</td>\n      <td>21</td>\n    </tr>\n    <tr>\n      <th>...</th>\n      <td>...</td>\n      <td>...</td>\n      <td>...</td>\n      <td>...</td>\n      <td>...</td>\n    </tr>\n    <tr>\n      <th>9</th>\n      <td>38394.000000</td>\n      <td>22263900160</td>\n      <td>2022</td>\n      <td>2</td>\n      <td>29</td>\n    </tr>\n    <tr>\n      <th>10</th>\n      <td>38386.000000</td>\n      <td>22263900160</td>\n      <td>2022</td>\n      <td>2</td>\n      <td>30</td>\n    </tr>\n    <tr>\n      <th>11</th>\n      <td>42455.000000</td>\n      <td>22263900160</td>\n      <td>2022</td>\n      <td>3</td>\n      <td>1</td>\n    </tr>\n    <tr>\n      <th>12</th>\n      <td>42322.000000</td>\n      <td>22263900160</td>\n      <td>2022</td>\n      <td>3</td>\n      <td>2</td>\n    </tr>\n    <tr>\n      <th>13</th>\n      <td>41815.000000</td>\n      <td>22263900160</td>\n      <td>2022</td>\n      <td>3</td>\n      <td>3</td>\n    </tr>\n  </tbody>\n</table>\n<p>2727 rows × 5 columns</p>\n</div>"
     },
     "execution_count": 84,
     "metadata": {},
     "output_type": "execute_result"
    }
   ],
   "source": [
    "data_frame_with_predict=pd.concat([df,new_data])\n",
    "data_frame_with_predict"
   ],
   "metadata": {
    "collapsed": false,
    "pycharm": {
     "name": "#%%\n"
    }
   }
  },
  {
   "cell_type": "code",
   "execution_count": 84,
   "outputs": [],
   "source": [],
   "metadata": {
    "collapsed": false,
    "pycharm": {
     "name": "#%%\n"
    }
   }
  }
 ],
 "metadata": {
  "kernelspec": {
   "display_name": "Python 3",
   "language": "python",
   "name": "python3"
  },
  "language_info": {
   "codemirror_mode": {
    "name": "ipython",
    "version": 2
   },
   "file_extension": ".py",
   "mimetype": "text/x-python",
   "name": "python",
   "nbconvert_exporter": "python",
   "pygments_lexer": "ipython2",
   "version": "2.7.6"
  }
 },
 "nbformat": 4,
 "nbformat_minor": 0
}